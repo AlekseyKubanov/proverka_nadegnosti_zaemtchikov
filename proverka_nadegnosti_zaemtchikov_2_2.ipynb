{
 "cells": [
  {
   "cell_type": "markdown",
   "id": "386f2ae7",
   "metadata": {
    "deletable": false,
    "editable": false,
    "id": "386f2ae7"
   },
   "source": [
    "# Исследование надежности заемщиков\n"
   ]
  },
  {
   "cell_type": "markdown",
   "id": "ffe86f65",
   "metadata": {
    "deletable": false,
    "editable": false,
    "id": "ffe86f65"
   },
   "source": [
    "Во второй части проекта вы выполните шаги 3 и 4. Их вручную проверит ревьюер.\n",
    "Чтобы вам не пришлось писать код заново для шагов 1 и 2, мы добавили авторские решения в ячейки с кодом. \n",
    "\n"
   ]
  },
  {
   "cell_type": "markdown",
   "id": "26613308",
   "metadata": {
    "deletable": false,
    "editable": false,
    "id": "26613308"
   },
   "source": [
    "## Откройте таблицу и изучите общую информацию о данных"
   ]
  },
  {
   "cell_type": "markdown",
   "id": "3c9f838e",
   "metadata": {
    "deletable": false,
    "editable": false,
    "id": "3c9f838e"
   },
   "source": [
    "**Задание 1. Импортируйте библиотеку pandas. Считайте данные из csv-файла в датафрейм и сохраните в переменную `data`. Путь к файлу:**\n",
    "\n",
    "`/datasets/data.csv`"
   ]
  },
  {
   "cell_type": "code",
   "execution_count": 1,
   "id": "77a68a90",
   "metadata": {
    "deletable": false,
    "id": "77a68a90"
   },
   "outputs": [],
   "source": [
    "import pandas as pd\n",
    "\n",
    "try:\n",
    "    data = pd.read_csv('/datasets/data.csv')\n",
    "except:\n",
    "    data = pd.read_csv('http/.../datasets/data.csv')"
   ]
  },
  {
   "cell_type": "markdown",
   "id": "45365635",
   "metadata": {
    "deletable": false,
    "editable": false,
    "id": "45365635"
   },
   "source": [
    "**Задание 2. Выведите первые 20 строчек датафрейма `data` на экран.**"
   ]
  },
  {
   "cell_type": "code",
   "execution_count": 2,
   "id": "b0451a9a",
   "metadata": {
    "deletable": false,
    "id": "b0451a9a",
    "outputId": "1a8f3ef2-d323-4ec2-ddf7-89670b5944c4"
   },
   "outputs": [
    {
     "data": {
      "text/html": [
       "<div>\n",
       "<style scoped>\n",
       "    .dataframe tbody tr th:only-of-type {\n",
       "        vertical-align: middle;\n",
       "    }\n",
       "\n",
       "    .dataframe tbody tr th {\n",
       "        vertical-align: top;\n",
       "    }\n",
       "\n",
       "    .dataframe thead th {\n",
       "        text-align: right;\n",
       "    }\n",
       "</style>\n",
       "<table border=\"1\" class=\"dataframe\">\n",
       "  <thead>\n",
       "    <tr style=\"text-align: right;\">\n",
       "      <th></th>\n",
       "      <th>children</th>\n",
       "      <th>days_employed</th>\n",
       "      <th>dob_years</th>\n",
       "      <th>education</th>\n",
       "      <th>education_id</th>\n",
       "      <th>family_status</th>\n",
       "      <th>family_status_id</th>\n",
       "      <th>gender</th>\n",
       "      <th>income_type</th>\n",
       "      <th>debt</th>\n",
       "      <th>total_income</th>\n",
       "      <th>purpose</th>\n",
       "    </tr>\n",
       "  </thead>\n",
       "  <tbody>\n",
       "    <tr>\n",
       "      <th>0</th>\n",
       "      <td>1</td>\n",
       "      <td>-8437.673028</td>\n",
       "      <td>42</td>\n",
       "      <td>высшее</td>\n",
       "      <td>0</td>\n",
       "      <td>женат / замужем</td>\n",
       "      <td>0</td>\n",
       "      <td>F</td>\n",
       "      <td>сотрудник</td>\n",
       "      <td>0</td>\n",
       "      <td>253875.639453</td>\n",
       "      <td>покупка жилья</td>\n",
       "    </tr>\n",
       "    <tr>\n",
       "      <th>1</th>\n",
       "      <td>1</td>\n",
       "      <td>-4024.803754</td>\n",
       "      <td>36</td>\n",
       "      <td>среднее</td>\n",
       "      <td>1</td>\n",
       "      <td>женат / замужем</td>\n",
       "      <td>0</td>\n",
       "      <td>F</td>\n",
       "      <td>сотрудник</td>\n",
       "      <td>0</td>\n",
       "      <td>112080.014102</td>\n",
       "      <td>приобретение автомобиля</td>\n",
       "    </tr>\n",
       "    <tr>\n",
       "      <th>2</th>\n",
       "      <td>0</td>\n",
       "      <td>-5623.422610</td>\n",
       "      <td>33</td>\n",
       "      <td>Среднее</td>\n",
       "      <td>1</td>\n",
       "      <td>женат / замужем</td>\n",
       "      <td>0</td>\n",
       "      <td>M</td>\n",
       "      <td>сотрудник</td>\n",
       "      <td>0</td>\n",
       "      <td>145885.952297</td>\n",
       "      <td>покупка жилья</td>\n",
       "    </tr>\n",
       "    <tr>\n",
       "      <th>3</th>\n",
       "      <td>3</td>\n",
       "      <td>-4124.747207</td>\n",
       "      <td>32</td>\n",
       "      <td>среднее</td>\n",
       "      <td>1</td>\n",
       "      <td>женат / замужем</td>\n",
       "      <td>0</td>\n",
       "      <td>M</td>\n",
       "      <td>сотрудник</td>\n",
       "      <td>0</td>\n",
       "      <td>267628.550329</td>\n",
       "      <td>дополнительное образование</td>\n",
       "    </tr>\n",
       "    <tr>\n",
       "      <th>4</th>\n",
       "      <td>0</td>\n",
       "      <td>340266.072047</td>\n",
       "      <td>53</td>\n",
       "      <td>среднее</td>\n",
       "      <td>1</td>\n",
       "      <td>гражданский брак</td>\n",
       "      <td>1</td>\n",
       "      <td>F</td>\n",
       "      <td>пенсионер</td>\n",
       "      <td>0</td>\n",
       "      <td>158616.077870</td>\n",
       "      <td>сыграть свадьбу</td>\n",
       "    </tr>\n",
       "    <tr>\n",
       "      <th>5</th>\n",
       "      <td>0</td>\n",
       "      <td>-926.185831</td>\n",
       "      <td>27</td>\n",
       "      <td>высшее</td>\n",
       "      <td>0</td>\n",
       "      <td>гражданский брак</td>\n",
       "      <td>1</td>\n",
       "      <td>M</td>\n",
       "      <td>компаньон</td>\n",
       "      <td>0</td>\n",
       "      <td>255763.565419</td>\n",
       "      <td>покупка жилья</td>\n",
       "    </tr>\n",
       "    <tr>\n",
       "      <th>6</th>\n",
       "      <td>0</td>\n",
       "      <td>-2879.202052</td>\n",
       "      <td>43</td>\n",
       "      <td>высшее</td>\n",
       "      <td>0</td>\n",
       "      <td>женат / замужем</td>\n",
       "      <td>0</td>\n",
       "      <td>F</td>\n",
       "      <td>компаньон</td>\n",
       "      <td>0</td>\n",
       "      <td>240525.971920</td>\n",
       "      <td>операции с жильем</td>\n",
       "    </tr>\n",
       "    <tr>\n",
       "      <th>7</th>\n",
       "      <td>0</td>\n",
       "      <td>-152.779569</td>\n",
       "      <td>50</td>\n",
       "      <td>СРЕДНЕЕ</td>\n",
       "      <td>1</td>\n",
       "      <td>женат / замужем</td>\n",
       "      <td>0</td>\n",
       "      <td>M</td>\n",
       "      <td>сотрудник</td>\n",
       "      <td>0</td>\n",
       "      <td>135823.934197</td>\n",
       "      <td>образование</td>\n",
       "    </tr>\n",
       "    <tr>\n",
       "      <th>8</th>\n",
       "      <td>2</td>\n",
       "      <td>-6929.865299</td>\n",
       "      <td>35</td>\n",
       "      <td>ВЫСШЕЕ</td>\n",
       "      <td>0</td>\n",
       "      <td>гражданский брак</td>\n",
       "      <td>1</td>\n",
       "      <td>F</td>\n",
       "      <td>сотрудник</td>\n",
       "      <td>0</td>\n",
       "      <td>95856.832424</td>\n",
       "      <td>на проведение свадьбы</td>\n",
       "    </tr>\n",
       "    <tr>\n",
       "      <th>9</th>\n",
       "      <td>0</td>\n",
       "      <td>-2188.756445</td>\n",
       "      <td>41</td>\n",
       "      <td>среднее</td>\n",
       "      <td>1</td>\n",
       "      <td>женат / замужем</td>\n",
       "      <td>0</td>\n",
       "      <td>M</td>\n",
       "      <td>сотрудник</td>\n",
       "      <td>0</td>\n",
       "      <td>144425.938277</td>\n",
       "      <td>покупка жилья для семьи</td>\n",
       "    </tr>\n",
       "    <tr>\n",
       "      <th>10</th>\n",
       "      <td>2</td>\n",
       "      <td>-4171.483647</td>\n",
       "      <td>36</td>\n",
       "      <td>высшее</td>\n",
       "      <td>0</td>\n",
       "      <td>женат / замужем</td>\n",
       "      <td>0</td>\n",
       "      <td>M</td>\n",
       "      <td>компаньон</td>\n",
       "      <td>0</td>\n",
       "      <td>113943.491460</td>\n",
       "      <td>покупка недвижимости</td>\n",
       "    </tr>\n",
       "    <tr>\n",
       "      <th>11</th>\n",
       "      <td>0</td>\n",
       "      <td>-792.701887</td>\n",
       "      <td>40</td>\n",
       "      <td>среднее</td>\n",
       "      <td>1</td>\n",
       "      <td>женат / замужем</td>\n",
       "      <td>0</td>\n",
       "      <td>F</td>\n",
       "      <td>сотрудник</td>\n",
       "      <td>0</td>\n",
       "      <td>77069.234271</td>\n",
       "      <td>покупка коммерческой недвижимости</td>\n",
       "    </tr>\n",
       "    <tr>\n",
       "      <th>12</th>\n",
       "      <td>0</td>\n",
       "      <td>NaN</td>\n",
       "      <td>65</td>\n",
       "      <td>среднее</td>\n",
       "      <td>1</td>\n",
       "      <td>гражданский брак</td>\n",
       "      <td>1</td>\n",
       "      <td>M</td>\n",
       "      <td>пенсионер</td>\n",
       "      <td>0</td>\n",
       "      <td>NaN</td>\n",
       "      <td>сыграть свадьбу</td>\n",
       "    </tr>\n",
       "    <tr>\n",
       "      <th>13</th>\n",
       "      <td>0</td>\n",
       "      <td>-1846.641941</td>\n",
       "      <td>54</td>\n",
       "      <td>неоконченное высшее</td>\n",
       "      <td>2</td>\n",
       "      <td>женат / замужем</td>\n",
       "      <td>0</td>\n",
       "      <td>F</td>\n",
       "      <td>сотрудник</td>\n",
       "      <td>0</td>\n",
       "      <td>130458.228857</td>\n",
       "      <td>приобретение автомобиля</td>\n",
       "    </tr>\n",
       "    <tr>\n",
       "      <th>14</th>\n",
       "      <td>0</td>\n",
       "      <td>-1844.956182</td>\n",
       "      <td>56</td>\n",
       "      <td>высшее</td>\n",
       "      <td>0</td>\n",
       "      <td>гражданский брак</td>\n",
       "      <td>1</td>\n",
       "      <td>F</td>\n",
       "      <td>компаньон</td>\n",
       "      <td>1</td>\n",
       "      <td>165127.911772</td>\n",
       "      <td>покупка жилой недвижимости</td>\n",
       "    </tr>\n",
       "    <tr>\n",
       "      <th>15</th>\n",
       "      <td>1</td>\n",
       "      <td>-972.364419</td>\n",
       "      <td>26</td>\n",
       "      <td>среднее</td>\n",
       "      <td>1</td>\n",
       "      <td>женат / замужем</td>\n",
       "      <td>0</td>\n",
       "      <td>F</td>\n",
       "      <td>сотрудник</td>\n",
       "      <td>0</td>\n",
       "      <td>116820.904450</td>\n",
       "      <td>строительство собственной недвижимости</td>\n",
       "    </tr>\n",
       "    <tr>\n",
       "      <th>16</th>\n",
       "      <td>0</td>\n",
       "      <td>-1719.934226</td>\n",
       "      <td>35</td>\n",
       "      <td>среднее</td>\n",
       "      <td>1</td>\n",
       "      <td>женат / замужем</td>\n",
       "      <td>0</td>\n",
       "      <td>F</td>\n",
       "      <td>сотрудник</td>\n",
       "      <td>0</td>\n",
       "      <td>289202.704229</td>\n",
       "      <td>недвижимость</td>\n",
       "    </tr>\n",
       "    <tr>\n",
       "      <th>17</th>\n",
       "      <td>0</td>\n",
       "      <td>-2369.999720</td>\n",
       "      <td>33</td>\n",
       "      <td>высшее</td>\n",
       "      <td>0</td>\n",
       "      <td>гражданский брак</td>\n",
       "      <td>1</td>\n",
       "      <td>M</td>\n",
       "      <td>сотрудник</td>\n",
       "      <td>0</td>\n",
       "      <td>90410.586745</td>\n",
       "      <td>строительство недвижимости</td>\n",
       "    </tr>\n",
       "    <tr>\n",
       "      <th>18</th>\n",
       "      <td>0</td>\n",
       "      <td>400281.136913</td>\n",
       "      <td>53</td>\n",
       "      <td>среднее</td>\n",
       "      <td>1</td>\n",
       "      <td>вдовец / вдова</td>\n",
       "      <td>2</td>\n",
       "      <td>F</td>\n",
       "      <td>пенсионер</td>\n",
       "      <td>0</td>\n",
       "      <td>56823.777243</td>\n",
       "      <td>на покупку подержанного автомобиля</td>\n",
       "    </tr>\n",
       "    <tr>\n",
       "      <th>19</th>\n",
       "      <td>0</td>\n",
       "      <td>-10038.818549</td>\n",
       "      <td>48</td>\n",
       "      <td>СРЕДНЕЕ</td>\n",
       "      <td>1</td>\n",
       "      <td>в разводе</td>\n",
       "      <td>3</td>\n",
       "      <td>F</td>\n",
       "      <td>сотрудник</td>\n",
       "      <td>0</td>\n",
       "      <td>242831.107982</td>\n",
       "      <td>на покупку своего автомобиля</td>\n",
       "    </tr>\n",
       "  </tbody>\n",
       "</table>\n",
       "</div>"
      ],
      "text/plain": [
       "    children  days_employed  dob_years            education  education_id  \\\n",
       "0          1   -8437.673028         42               высшее             0   \n",
       "1          1   -4024.803754         36              среднее             1   \n",
       "2          0   -5623.422610         33              Среднее             1   \n",
       "3          3   -4124.747207         32              среднее             1   \n",
       "4          0  340266.072047         53              среднее             1   \n",
       "5          0    -926.185831         27               высшее             0   \n",
       "6          0   -2879.202052         43               высшее             0   \n",
       "7          0    -152.779569         50              СРЕДНЕЕ             1   \n",
       "8          2   -6929.865299         35               ВЫСШЕЕ             0   \n",
       "9          0   -2188.756445         41              среднее             1   \n",
       "10         2   -4171.483647         36               высшее             0   \n",
       "11         0    -792.701887         40              среднее             1   \n",
       "12         0            NaN         65              среднее             1   \n",
       "13         0   -1846.641941         54  неоконченное высшее             2   \n",
       "14         0   -1844.956182         56               высшее             0   \n",
       "15         1    -972.364419         26              среднее             1   \n",
       "16         0   -1719.934226         35              среднее             1   \n",
       "17         0   -2369.999720         33               высшее             0   \n",
       "18         0  400281.136913         53              среднее             1   \n",
       "19         0  -10038.818549         48              СРЕДНЕЕ             1   \n",
       "\n",
       "       family_status  family_status_id gender income_type  debt  \\\n",
       "0    женат / замужем                 0      F   сотрудник     0   \n",
       "1    женат / замужем                 0      F   сотрудник     0   \n",
       "2    женат / замужем                 0      M   сотрудник     0   \n",
       "3    женат / замужем                 0      M   сотрудник     0   \n",
       "4   гражданский брак                 1      F   пенсионер     0   \n",
       "5   гражданский брак                 1      M   компаньон     0   \n",
       "6    женат / замужем                 0      F   компаньон     0   \n",
       "7    женат / замужем                 0      M   сотрудник     0   \n",
       "8   гражданский брак                 1      F   сотрудник     0   \n",
       "9    женат / замужем                 0      M   сотрудник     0   \n",
       "10   женат / замужем                 0      M   компаньон     0   \n",
       "11   женат / замужем                 0      F   сотрудник     0   \n",
       "12  гражданский брак                 1      M   пенсионер     0   \n",
       "13   женат / замужем                 0      F   сотрудник     0   \n",
       "14  гражданский брак                 1      F   компаньон     1   \n",
       "15   женат / замужем                 0      F   сотрудник     0   \n",
       "16   женат / замужем                 0      F   сотрудник     0   \n",
       "17  гражданский брак                 1      M   сотрудник     0   \n",
       "18    вдовец / вдова                 2      F   пенсионер     0   \n",
       "19         в разводе                 3      F   сотрудник     0   \n",
       "\n",
       "     total_income                                 purpose  \n",
       "0   253875.639453                           покупка жилья  \n",
       "1   112080.014102                 приобретение автомобиля  \n",
       "2   145885.952297                           покупка жилья  \n",
       "3   267628.550329              дополнительное образование  \n",
       "4   158616.077870                         сыграть свадьбу  \n",
       "5   255763.565419                           покупка жилья  \n",
       "6   240525.971920                       операции с жильем  \n",
       "7   135823.934197                             образование  \n",
       "8    95856.832424                   на проведение свадьбы  \n",
       "9   144425.938277                 покупка жилья для семьи  \n",
       "10  113943.491460                    покупка недвижимости  \n",
       "11   77069.234271       покупка коммерческой недвижимости  \n",
       "12            NaN                         сыграть свадьбу  \n",
       "13  130458.228857                 приобретение автомобиля  \n",
       "14  165127.911772              покупка жилой недвижимости  \n",
       "15  116820.904450  строительство собственной недвижимости  \n",
       "16  289202.704229                            недвижимость  \n",
       "17   90410.586745              строительство недвижимости  \n",
       "18   56823.777243      на покупку подержанного автомобиля  \n",
       "19  242831.107982            на покупку своего автомобиля  "
      ]
     },
     "execution_count": 2,
     "metadata": {},
     "output_type": "execute_result"
    }
   ],
   "source": [
    "data.head(20)"
   ]
  },
  {
   "cell_type": "markdown",
   "id": "0ed8f27f",
   "metadata": {
    "deletable": false,
    "editable": false,
    "id": "0ed8f27f"
   },
   "source": [
    "**Задание 3. Выведите основную информацию о датафрейме с помощью метода `info()`.**"
   ]
  },
  {
   "cell_type": "code",
   "execution_count": 3,
   "id": "ab3f863b",
   "metadata": {
    "deletable": false,
    "id": "ab3f863b",
    "outputId": "15376089-8dad-46c9-b520-c05248d43158"
   },
   "outputs": [
    {
     "name": "stdout",
     "output_type": "stream",
     "text": [
      "<class 'pandas.core.frame.DataFrame'>\n",
      "RangeIndex: 21525 entries, 0 to 21524\n",
      "Data columns (total 12 columns):\n",
      " #   Column            Non-Null Count  Dtype  \n",
      "---  ------            --------------  -----  \n",
      " 0   children          21525 non-null  int64  \n",
      " 1   days_employed     19351 non-null  float64\n",
      " 2   dob_years         21525 non-null  int64  \n",
      " 3   education         21525 non-null  object \n",
      " 4   education_id      21525 non-null  int64  \n",
      " 5   family_status     21525 non-null  object \n",
      " 6   family_status_id  21525 non-null  int64  \n",
      " 7   gender            21525 non-null  object \n",
      " 8   income_type       21525 non-null  object \n",
      " 9   debt              21525 non-null  int64  \n",
      " 10  total_income      19351 non-null  float64\n",
      " 11  purpose           21525 non-null  object \n",
      "dtypes: float64(2), int64(5), object(5)\n",
      "memory usage: 2.0+ MB\n"
     ]
    }
   ],
   "source": [
    "data.info()"
   ]
  },
  {
   "cell_type": "markdown",
   "id": "60e3e22d",
   "metadata": {
    "deletable": false,
    "editable": false,
    "id": "60e3e22d"
   },
   "source": [
    "## Предобработка данных"
   ]
  },
  {
   "cell_type": "markdown",
   "id": "03dc170c",
   "metadata": {
    "deletable": false,
    "editable": false,
    "id": "03dc170c"
   },
   "source": [
    "### Удаление пропусков"
   ]
  },
  {
   "cell_type": "markdown",
   "id": "a4f54eef",
   "metadata": {
    "deletable": false,
    "editable": false,
    "id": "a4f54eef"
   },
   "source": [
    "**Задание 4. Выведите количество пропущенных значений для каждого столбца. Используйте комбинацию двух методов.**"
   ]
  },
  {
   "cell_type": "code",
   "execution_count": 4,
   "id": "2dc372b2",
   "metadata": {
    "deletable": false,
    "id": "2dc372b2",
    "outputId": "81f4d817-781c-465c-ed15-91ce4446810d"
   },
   "outputs": [
    {
     "data": {
      "text/plain": [
       "children               0\n",
       "days_employed       2174\n",
       "dob_years              0\n",
       "education              0\n",
       "education_id           0\n",
       "family_status          0\n",
       "family_status_id       0\n",
       "gender                 0\n",
       "income_type            0\n",
       "debt                   0\n",
       "total_income        2174\n",
       "purpose                0\n",
       "dtype: int64"
      ]
     },
     "execution_count": 4,
     "metadata": {},
     "output_type": "execute_result"
    }
   ],
   "source": [
    "data.isna().sum()"
   ]
  },
  {
   "cell_type": "markdown",
   "id": "14f011b1",
   "metadata": {
    "deletable": false,
    "editable": false,
    "id": "14f011b1"
   },
   "source": [
    "**Задание 5. В двух столбцах есть пропущенные значения. Один из них — `days_employed`. Пропуски в этом столбце вы обработаете на следующем этапе. Другой столбец с пропущенными значениями — `total_income` — хранит данные о доходах. На сумму дохода сильнее всего влияет тип занятости, поэтому заполнить пропуски в этом столбце нужно медианным значением по каждому типу из столбца `income_type`. Например, у человека с типом занятости `сотрудник` пропуск в столбце `total_income` должен быть заполнен медианным доходом среди всех записей с тем же типом.**"
   ]
  },
  {
   "cell_type": "code",
   "execution_count": 5,
   "id": "bdabfb6e",
   "metadata": {
    "deletable": false,
    "id": "bdabfb6e"
   },
   "outputs": [],
   "source": [
    "for t in data['income_type'].unique():\n",
    "    data.loc[(data['income_type'] == t) & (data['total_income'].isna()), 'total_income'] = \\\n",
    "    data.loc[(data['income_type'] == t), 'total_income'].median()"
   ]
  },
  {
   "cell_type": "markdown",
   "id": "5be34059",
   "metadata": {
    "deletable": false,
    "editable": false,
    "id": "5be34059"
   },
   "source": [
    "### Обработка аномальных значений"
   ]
  },
  {
   "cell_type": "markdown",
   "id": "a87606cb",
   "metadata": {
    "deletable": false,
    "editable": false,
    "id": "a87606cb"
   },
   "source": [
    "**Задание 6. В данных могут встречаться артефакты (аномалии) — значения, которые не отражают действительность и появились по какой-то ошибке. таким артефактом будет отрицательное количество дней трудового стажа в столбце `days_employed`. Для реальных данных это нормально. Обработайте значения в этом столбце: замените все отрицательные значения положительными с помощью метода `abs()`.**"
   ]
  },
  {
   "cell_type": "code",
   "execution_count": 6,
   "id": "020c46cc",
   "metadata": {
    "deletable": false,
    "id": "020c46cc"
   },
   "outputs": [
    {
     "data": {
      "text/html": [
       "<div>\n",
       "<style scoped>\n",
       "    .dataframe tbody tr th:only-of-type {\n",
       "        vertical-align: middle;\n",
       "    }\n",
       "\n",
       "    .dataframe tbody tr th {\n",
       "        vertical-align: top;\n",
       "    }\n",
       "\n",
       "    .dataframe thead th {\n",
       "        text-align: right;\n",
       "    }\n",
       "</style>\n",
       "<table border=\"1\" class=\"dataframe\">\n",
       "  <thead>\n",
       "    <tr style=\"text-align: right;\">\n",
       "      <th></th>\n",
       "      <th>children</th>\n",
       "      <th>days_employed</th>\n",
       "      <th>dob_years</th>\n",
       "      <th>education</th>\n",
       "      <th>education_id</th>\n",
       "      <th>family_status</th>\n",
       "      <th>family_status_id</th>\n",
       "      <th>gender</th>\n",
       "      <th>income_type</th>\n",
       "      <th>debt</th>\n",
       "      <th>total_income</th>\n",
       "      <th>purpose</th>\n",
       "    </tr>\n",
       "  </thead>\n",
       "  <tbody>\n",
       "    <tr>\n",
       "      <th>0</th>\n",
       "      <td>1</td>\n",
       "      <td>8437.673028</td>\n",
       "      <td>42</td>\n",
       "      <td>высшее</td>\n",
       "      <td>0</td>\n",
       "      <td>женат / замужем</td>\n",
       "      <td>0</td>\n",
       "      <td>F</td>\n",
       "      <td>сотрудник</td>\n",
       "      <td>0</td>\n",
       "      <td>253875.639453</td>\n",
       "      <td>покупка жилья</td>\n",
       "    </tr>\n",
       "    <tr>\n",
       "      <th>1</th>\n",
       "      <td>1</td>\n",
       "      <td>4024.803754</td>\n",
       "      <td>36</td>\n",
       "      <td>среднее</td>\n",
       "      <td>1</td>\n",
       "      <td>женат / замужем</td>\n",
       "      <td>0</td>\n",
       "      <td>F</td>\n",
       "      <td>сотрудник</td>\n",
       "      <td>0</td>\n",
       "      <td>112080.014102</td>\n",
       "      <td>приобретение автомобиля</td>\n",
       "    </tr>\n",
       "    <tr>\n",
       "      <th>2</th>\n",
       "      <td>0</td>\n",
       "      <td>5623.422610</td>\n",
       "      <td>33</td>\n",
       "      <td>Среднее</td>\n",
       "      <td>1</td>\n",
       "      <td>женат / замужем</td>\n",
       "      <td>0</td>\n",
       "      <td>M</td>\n",
       "      <td>сотрудник</td>\n",
       "      <td>0</td>\n",
       "      <td>145885.952297</td>\n",
       "      <td>покупка жилья</td>\n",
       "    </tr>\n",
       "    <tr>\n",
       "      <th>3</th>\n",
       "      <td>3</td>\n",
       "      <td>4124.747207</td>\n",
       "      <td>32</td>\n",
       "      <td>среднее</td>\n",
       "      <td>1</td>\n",
       "      <td>женат / замужем</td>\n",
       "      <td>0</td>\n",
       "      <td>M</td>\n",
       "      <td>сотрудник</td>\n",
       "      <td>0</td>\n",
       "      <td>267628.550329</td>\n",
       "      <td>дополнительное образование</td>\n",
       "    </tr>\n",
       "    <tr>\n",
       "      <th>4</th>\n",
       "      <td>0</td>\n",
       "      <td>340266.072047</td>\n",
       "      <td>53</td>\n",
       "      <td>среднее</td>\n",
       "      <td>1</td>\n",
       "      <td>гражданский брак</td>\n",
       "      <td>1</td>\n",
       "      <td>F</td>\n",
       "      <td>пенсионер</td>\n",
       "      <td>0</td>\n",
       "      <td>158616.077870</td>\n",
       "      <td>сыграть свадьбу</td>\n",
       "    </tr>\n",
       "  </tbody>\n",
       "</table>\n",
       "</div>"
      ],
      "text/plain": [
       "   children  days_employed  dob_years education  education_id  \\\n",
       "0         1    8437.673028         42    высшее             0   \n",
       "1         1    4024.803754         36   среднее             1   \n",
       "2         0    5623.422610         33   Среднее             1   \n",
       "3         3    4124.747207         32   среднее             1   \n",
       "4         0  340266.072047         53   среднее             1   \n",
       "\n",
       "      family_status  family_status_id gender income_type  debt   total_income  \\\n",
       "0   женат / замужем                 0      F   сотрудник     0  253875.639453   \n",
       "1   женат / замужем                 0      F   сотрудник     0  112080.014102   \n",
       "2   женат / замужем                 0      M   сотрудник     0  145885.952297   \n",
       "3   женат / замужем                 0      M   сотрудник     0  267628.550329   \n",
       "4  гражданский брак                 1      F   пенсионер     0  158616.077870   \n",
       "\n",
       "                      purpose  \n",
       "0               покупка жилья  \n",
       "1     приобретение автомобиля  \n",
       "2               покупка жилья  \n",
       "3  дополнительное образование  \n",
       "4             сыграть свадьбу  "
      ]
     },
     "execution_count": 6,
     "metadata": {},
     "output_type": "execute_result"
    }
   ],
   "source": [
    "data['days_employed'] = data['days_employed'].abs()\n",
    "data.head()"
   ]
  },
  {
   "cell_type": "markdown",
   "id": "45538a3a",
   "metadata": {
    "deletable": false,
    "editable": false,
    "id": "45538a3a"
   },
   "source": [
    "**Задание 7. Для каждого типа занятости выведите медианное значение трудового стажа `days_employed` в днях.**"
   ]
  },
  {
   "cell_type": "code",
   "execution_count": 7,
   "id": "cd3e6328",
   "metadata": {
    "deletable": false,
    "id": "cd3e6328",
    "outputId": "801ef80e-522b-4668-f34e-565af7432bcf"
   },
   "outputs": [
    {
     "data": {
      "text/plain": [
       "income_type\n",
       "безработный        366413.652744\n",
       "в декрете            3296.759962\n",
       "госслужащий          2689.368353\n",
       "компаньон            1547.382223\n",
       "пенсионер          365213.306266\n",
       "предприниматель       520.848083\n",
       "сотрудник            1574.202821\n",
       "студент               578.751554\n",
       "Name: days_employed, dtype: float64"
      ]
     },
     "execution_count": 7,
     "metadata": {},
     "output_type": "execute_result"
    }
   ],
   "source": [
    "data.groupby('income_type')['days_employed'].agg('median')"
   ]
  },
  {
   "cell_type": "markdown",
   "id": "90c5f058",
   "metadata": {
    "deletable": false,
    "editable": false,
    "id": "90c5f058"
   },
   "source": [
    "У двух типов (безработные и пенсионеры) получатся аномально большие значения. Исправить такие значения сложно, поэтому оставьте их как есть."
   ]
  },
  {
   "cell_type": "markdown",
   "id": "9652e50d",
   "metadata": {
    "deletable": false,
    "editable": false,
    "id": "9652e50d"
   },
   "source": [
    "**Задание 8. Выведите перечень уникальных значений столбца `children`.**"
   ]
  },
  {
   "cell_type": "code",
   "execution_count": 8,
   "id": "dbb37b8e",
   "metadata": {
    "deletable": false,
    "id": "dbb37b8e",
    "outputId": "6975b15c-7f95-4697-d16d-a0c79b657b03"
   },
   "outputs": [
    {
     "data": {
      "text/plain": [
       "array([ 1,  0,  3,  2, -1,  4, 20,  5], dtype=int64)"
      ]
     },
     "execution_count": 8,
     "metadata": {},
     "output_type": "execute_result"
    }
   ],
   "source": [
    "data['children'].unique()"
   ]
  },
  {
   "cell_type": "markdown",
   "id": "2b8b0715",
   "metadata": {
    "deletable": false,
    "editable": false,
    "id": "2b8b0715"
   },
   "source": [
    "**Задание 9. В столбце `children` есть два аномальных значения. Удалите строки, в которых встречаются такие аномальные значения из датафрейма `data`.**"
   ]
  },
  {
   "cell_type": "code",
   "execution_count": 9,
   "id": "20009df8",
   "metadata": {
    "deletable": false,
    "id": "20009df8"
   },
   "outputs": [],
   "source": [
    "data = data[(data['children'] != -1) & (data['children'] != 20)]"
   ]
  },
  {
   "cell_type": "markdown",
   "id": "8c6ac9f1",
   "metadata": {
    "deletable": false,
    "editable": false,
    "id": "8c6ac9f1"
   },
   "source": [
    "**Задание 10. Ещё раз выведите перечень уникальных значений столбца `children`, чтобы убедиться, что артефакты удалены.**"
   ]
  },
  {
   "cell_type": "code",
   "execution_count": 10,
   "id": "07337b81",
   "metadata": {
    "deletable": false,
    "id": "07337b81",
    "outputId": "b2097101-d49d-44d9-901b-32a65c9463d1"
   },
   "outputs": [
    {
     "data": {
      "text/plain": [
       "array([1, 0, 3, 2, 4, 5], dtype=int64)"
      ]
     },
     "execution_count": 10,
     "metadata": {},
     "output_type": "execute_result"
    }
   ],
   "source": [
    "data['children'].unique()"
   ]
  },
  {
   "cell_type": "markdown",
   "id": "ee3f52d4",
   "metadata": {
    "deletable": false,
    "editable": false,
    "id": "ee3f52d4"
   },
   "source": [
    "### Удаление пропусков (продолжение)"
   ]
  },
  {
   "cell_type": "markdown",
   "id": "a700b0e4",
   "metadata": {
    "deletable": false,
    "editable": false,
    "id": "a700b0e4"
   },
   "source": [
    "**Задание 11. Заполните пропуски в столбце `days_employed` медианными значениями по каждого типа занятости `income_type`.**"
   ]
  },
  {
   "cell_type": "code",
   "execution_count": 11,
   "id": "61946b83",
   "metadata": {
    "deletable": false,
    "id": "61946b83"
   },
   "outputs": [],
   "source": [
    "for t in data['income_type'].unique():\n",
    "    data.loc[(data['income_type'] == t) & (data['days_employed'].isna()), 'days_employed'] = \\\n",
    "    data.loc[(data['income_type'] == t), 'days_employed'].median()"
   ]
  },
  {
   "cell_type": "markdown",
   "id": "550dcd9b",
   "metadata": {
    "deletable": false,
    "editable": false,
    "id": "550dcd9b"
   },
   "source": [
    "**Задание 12. Убедитесь, что все пропуски заполнены. Проверьте себя и ещё раз выведите количество пропущенных значений для каждого столбца с помощью двух методов.**"
   ]
  },
  {
   "cell_type": "code",
   "execution_count": 12,
   "id": "937c7014",
   "metadata": {
    "deletable": false,
    "id": "937c7014",
    "outputId": "8da1e4e1-358e-4e87-98c9-f261bce0a7b2"
   },
   "outputs": [
    {
     "data": {
      "text/plain": [
       "children            0\n",
       "days_employed       0\n",
       "dob_years           0\n",
       "education           0\n",
       "education_id        0\n",
       "family_status       0\n",
       "family_status_id    0\n",
       "gender              0\n",
       "income_type         0\n",
       "debt                0\n",
       "total_income        0\n",
       "purpose             0\n",
       "dtype: int64"
      ]
     },
     "execution_count": 12,
     "metadata": {},
     "output_type": "execute_result"
    }
   ],
   "source": [
    "data.isna().sum()"
   ]
  },
  {
   "cell_type": "markdown",
   "id": "d522e295",
   "metadata": {
    "deletable": false,
    "editable": false,
    "id": "d522e295"
   },
   "source": [
    "### Изменение типов данных"
   ]
  },
  {
   "cell_type": "markdown",
   "id": "c229c581",
   "metadata": {
    "deletable": false,
    "editable": false,
    "id": "c229c581"
   },
   "source": [
    "**Задание 13. Замените вещественный тип данных в столбце `total_income` на целочисленный с помощью метода `astype()`.**"
   ]
  },
  {
   "cell_type": "code",
   "execution_count": 13,
   "id": "31036462",
   "metadata": {
    "deletable": false,
    "id": "31036462"
   },
   "outputs": [],
   "source": [
    "data['total_income'] = data['total_income'].astype(int)"
   ]
  },
  {
   "cell_type": "markdown",
   "id": "b8e3d1d9",
   "metadata": {
    "deletable": false,
    "editable": false,
    "id": "b8e3d1d9"
   },
   "source": [
    "### Обработка дубликатов"
   ]
  },
  {
   "cell_type": "markdown",
   "id": "9be53c49",
   "metadata": {
    "deletable": false,
    "editable": false,
    "id": "9be53c49"
   },
   "source": [
    "**Задание 14. Обработайте неявные дубликаты в столбце `education`. В этом столбце есть одни и те же значения, но записанные по-разному: с использованием заглавных и строчных букв. Приведите их к нижнему регистру.**"
   ]
  },
  {
   "cell_type": "code",
   "execution_count": 14,
   "id": "d89e73e1",
   "metadata": {
    "deletable": false,
    "id": "d89e73e1"
   },
   "outputs": [],
   "source": [
    "data['education'] = data['education'].str.lower()"
   ]
  },
  {
   "cell_type": "markdown",
   "id": "01d4500e",
   "metadata": {
    "deletable": false,
    "editable": false,
    "id": "01d4500e"
   },
   "source": [
    "**Задание 15. Выведите на экран количество строк-дубликатов в данных. Если такие строки присутствуют, удалите их.**"
   ]
  },
  {
   "cell_type": "code",
   "execution_count": 15,
   "id": "e10efb23",
   "metadata": {
    "deletable": false,
    "id": "e10efb23",
    "outputId": "9684deba-1934-42d1-99e1-cda61740f822"
   },
   "outputs": [
    {
     "data": {
      "text/plain": [
       "71"
      ]
     },
     "execution_count": 15,
     "metadata": {},
     "output_type": "execute_result"
    }
   ],
   "source": [
    "data.duplicated().sum()"
   ]
  },
  {
   "cell_type": "code",
   "execution_count": 16,
   "id": "df853f20",
   "metadata": {
    "deletable": false,
    "id": "df853f20"
   },
   "outputs": [],
   "source": [
    "data = data.drop_duplicates()"
   ]
  },
  {
   "cell_type": "markdown",
   "id": "627be38f",
   "metadata": {
    "deletable": false,
    "editable": false,
    "id": "627be38f"
   },
   "source": [
    "### Категоризация данных"
   ]
  },
  {
   "cell_type": "markdown",
   "id": "4684c3e0",
   "metadata": {
    "deletable": false,
    "editable": false,
    "id": "4684c3e0"
   },
   "source": [
    "**Задание 16. На основании диапазонов, указанных ниже, создайте в датафрейме `data` столбец `total_income_category` с категориями:**\n",
    "\n",
    "- 0–30000 — `'E'`;\n",
    "- 30001–50000 — `'D'`;\n",
    "- 50001–200000 — `'C'`;\n",
    "- 200001–1000000 — `'B'`;\n",
    "- 1000001 и выше — `'A'`.\n",
    "\n",
    "\n",
    "**Например, кредитополучателю с доходом 25000 нужно назначить категорию `'E'`, а клиенту, получающему 235000, — `'B'`. Используйте собственную функцию с именем `categorize_income()` и метод `apply()`.**"
   ]
  },
  {
   "cell_type": "code",
   "execution_count": 17,
   "id": "78965238",
   "metadata": {
    "deletable": false,
    "id": "78965238"
   },
   "outputs": [],
   "source": [
    "def categorize_income(income):\n",
    "    try:\n",
    "        if 0 <= income <= 30000:\n",
    "            return 'E'\n",
    "        elif 30001 <= income <= 50000:\n",
    "            return 'D'\n",
    "        elif 50001 <= income <= 200000:\n",
    "            return 'C'\n",
    "        elif 200001 <= income <= 1000000:\n",
    "            return 'B'\n",
    "        elif income >= 1000001:\n",
    "            return 'A'\n",
    "    except:\n",
    "        pass"
   ]
  },
  {
   "cell_type": "code",
   "execution_count": 18,
   "id": "0980ada1",
   "metadata": {
    "deletable": false,
    "id": "0980ada1"
   },
   "outputs": [
    {
     "data": {
      "text/html": [
       "<div>\n",
       "<style scoped>\n",
       "    .dataframe tbody tr th:only-of-type {\n",
       "        vertical-align: middle;\n",
       "    }\n",
       "\n",
       "    .dataframe tbody tr th {\n",
       "        vertical-align: top;\n",
       "    }\n",
       "\n",
       "    .dataframe thead th {\n",
       "        text-align: right;\n",
       "    }\n",
       "</style>\n",
       "<table border=\"1\" class=\"dataframe\">\n",
       "  <thead>\n",
       "    <tr style=\"text-align: right;\">\n",
       "      <th></th>\n",
       "      <th>children</th>\n",
       "      <th>days_employed</th>\n",
       "      <th>dob_years</th>\n",
       "      <th>education</th>\n",
       "      <th>education_id</th>\n",
       "      <th>family_status</th>\n",
       "      <th>family_status_id</th>\n",
       "      <th>gender</th>\n",
       "      <th>income_type</th>\n",
       "      <th>debt</th>\n",
       "      <th>total_income</th>\n",
       "      <th>purpose</th>\n",
       "      <th>total_income_category</th>\n",
       "    </tr>\n",
       "  </thead>\n",
       "  <tbody>\n",
       "    <tr>\n",
       "      <th>16211</th>\n",
       "      <td>5</td>\n",
       "      <td>387.317579</td>\n",
       "      <td>35</td>\n",
       "      <td>среднее</td>\n",
       "      <td>1</td>\n",
       "      <td>гражданский брак</td>\n",
       "      <td>1</td>\n",
       "      <td>F</td>\n",
       "      <td>госслужащий</td>\n",
       "      <td>0</td>\n",
       "      <td>126102</td>\n",
       "      <td>на проведение свадьбы</td>\n",
       "      <td>C</td>\n",
       "    </tr>\n",
       "    <tr>\n",
       "      <th>14374</th>\n",
       "      <td>2</td>\n",
       "      <td>939.283615</td>\n",
       "      <td>37</td>\n",
       "      <td>среднее</td>\n",
       "      <td>1</td>\n",
       "      <td>женат / замужем</td>\n",
       "      <td>0</td>\n",
       "      <td>F</td>\n",
       "      <td>компаньон</td>\n",
       "      <td>0</td>\n",
       "      <td>187021</td>\n",
       "      <td>ремонт жилью</td>\n",
       "      <td>C</td>\n",
       "    </tr>\n",
       "    <tr>\n",
       "      <th>6180</th>\n",
       "      <td>0</td>\n",
       "      <td>3645.887512</td>\n",
       "      <td>50</td>\n",
       "      <td>высшее</td>\n",
       "      <td>0</td>\n",
       "      <td>женат / замужем</td>\n",
       "      <td>0</td>\n",
       "      <td>F</td>\n",
       "      <td>сотрудник</td>\n",
       "      <td>0</td>\n",
       "      <td>167625</td>\n",
       "      <td>строительство недвижимости</td>\n",
       "      <td>C</td>\n",
       "    </tr>\n",
       "    <tr>\n",
       "      <th>9911</th>\n",
       "      <td>1</td>\n",
       "      <td>231.363347</td>\n",
       "      <td>32</td>\n",
       "      <td>среднее</td>\n",
       "      <td>1</td>\n",
       "      <td>женат / замужем</td>\n",
       "      <td>0</td>\n",
       "      <td>F</td>\n",
       "      <td>компаньон</td>\n",
       "      <td>0</td>\n",
       "      <td>217083</td>\n",
       "      <td>образование</td>\n",
       "      <td>B</td>\n",
       "    </tr>\n",
       "    <tr>\n",
       "      <th>14185</th>\n",
       "      <td>1</td>\n",
       "      <td>558.705053</td>\n",
       "      <td>28</td>\n",
       "      <td>высшее</td>\n",
       "      <td>0</td>\n",
       "      <td>женат / замужем</td>\n",
       "      <td>0</td>\n",
       "      <td>F</td>\n",
       "      <td>компаньон</td>\n",
       "      <td>0</td>\n",
       "      <td>168302</td>\n",
       "      <td>автомобиль</td>\n",
       "      <td>C</td>\n",
       "    </tr>\n",
       "    <tr>\n",
       "      <th>2102</th>\n",
       "      <td>0</td>\n",
       "      <td>1449.253158</td>\n",
       "      <td>40</td>\n",
       "      <td>среднее</td>\n",
       "      <td>1</td>\n",
       "      <td>в разводе</td>\n",
       "      <td>3</td>\n",
       "      <td>F</td>\n",
       "      <td>сотрудник</td>\n",
       "      <td>0</td>\n",
       "      <td>103974</td>\n",
       "      <td>ремонт жилью</td>\n",
       "      <td>C</td>\n",
       "    </tr>\n",
       "    <tr>\n",
       "      <th>14824</th>\n",
       "      <td>1</td>\n",
       "      <td>120.756402</td>\n",
       "      <td>29</td>\n",
       "      <td>высшее</td>\n",
       "      <td>0</td>\n",
       "      <td>женат / замужем</td>\n",
       "      <td>0</td>\n",
       "      <td>F</td>\n",
       "      <td>компаньон</td>\n",
       "      <td>0</td>\n",
       "      <td>143176</td>\n",
       "      <td>автомобиль</td>\n",
       "      <td>C</td>\n",
       "    </tr>\n",
       "  </tbody>\n",
       "</table>\n",
       "</div>"
      ],
      "text/plain": [
       "       children  days_employed  dob_years education  education_id  \\\n",
       "16211         5     387.317579         35   среднее             1   \n",
       "14374         2     939.283615         37   среднее             1   \n",
       "6180          0    3645.887512         50    высшее             0   \n",
       "9911          1     231.363347         32   среднее             1   \n",
       "14185         1     558.705053         28    высшее             0   \n",
       "2102          0    1449.253158         40   среднее             1   \n",
       "14824         1     120.756402         29    высшее             0   \n",
       "\n",
       "          family_status  family_status_id gender  income_type  debt  \\\n",
       "16211  гражданский брак                 1      F  госслужащий     0   \n",
       "14374   женат / замужем                 0      F    компаньон     0   \n",
       "6180    женат / замужем                 0      F    сотрудник     0   \n",
       "9911    женат / замужем                 0      F    компаньон     0   \n",
       "14185   женат / замужем                 0      F    компаньон     0   \n",
       "2102          в разводе                 3      F    сотрудник     0   \n",
       "14824   женат / замужем                 0      F    компаньон     0   \n",
       "\n",
       "       total_income                     purpose total_income_category  \n",
       "16211        126102       на проведение свадьбы                     C  \n",
       "14374        187021                ремонт жилью                     C  \n",
       "6180         167625  строительство недвижимости                     C  \n",
       "9911         217083                 образование                     B  \n",
       "14185        168302                  автомобиль                     C  \n",
       "2102         103974                ремонт жилью                     C  \n",
       "14824        143176                  автомобиль                     C  "
      ]
     },
     "execution_count": 18,
     "metadata": {},
     "output_type": "execute_result"
    }
   ],
   "source": [
    "data['total_income_category'] = data['total_income'].apply(categorize_income)\n",
    "data.sample(7)"
   ]
  },
  {
   "cell_type": "markdown",
   "id": "9917bba0",
   "metadata": {
    "deletable": false,
    "editable": false,
    "id": "9917bba0"
   },
   "source": [
    "**Задание 17. Выведите на экран перечень уникальных целей взятия кредита из столбца `purpose`.**"
   ]
  },
  {
   "cell_type": "code",
   "execution_count": 19,
   "id": "ee07b65e",
   "metadata": {
    "deletable": false,
    "id": "ee07b65e",
    "outputId": "673c12d9-7d7e-4ae0-9812-c622c89dd244"
   },
   "outputs": [
    {
     "data": {
      "text/plain": [
       "array(['покупка жилья', 'приобретение автомобиля',\n",
       "       'дополнительное образование', 'сыграть свадьбу',\n",
       "       'операции с жильем', 'образование', 'на проведение свадьбы',\n",
       "       'покупка жилья для семьи', 'покупка недвижимости',\n",
       "       'покупка коммерческой недвижимости', 'покупка жилой недвижимости',\n",
       "       'строительство собственной недвижимости', 'недвижимость',\n",
       "       'строительство недвижимости', 'на покупку подержанного автомобиля',\n",
       "       'на покупку своего автомобиля',\n",
       "       'операции с коммерческой недвижимостью',\n",
       "       'строительство жилой недвижимости', 'жилье',\n",
       "       'операции со своей недвижимостью', 'автомобили',\n",
       "       'заняться образованием', 'сделка с подержанным автомобилем',\n",
       "       'получение образования', 'автомобиль', 'свадьба',\n",
       "       'получение дополнительного образования', 'покупка своего жилья',\n",
       "       'операции с недвижимостью', 'получение высшего образования',\n",
       "       'свой автомобиль', 'сделка с автомобилем',\n",
       "       'профильное образование', 'высшее образование',\n",
       "       'покупка жилья для сдачи', 'на покупку автомобиля', 'ремонт жилью',\n",
       "       'заняться высшим образованием'], dtype=object)"
      ]
     },
     "execution_count": 19,
     "metadata": {},
     "output_type": "execute_result"
    }
   ],
   "source": [
    "data['purpose'].unique()"
   ]
  },
  {
   "cell_type": "markdown",
   "id": "52b79d56",
   "metadata": {
    "deletable": false,
    "editable": false,
    "id": "52b79d56"
   },
   "source": [
    "**Задание 18. Создайте функцию, которая на основании данных из столбца `purpose` сформирует новый столбец `purpose_category`, в который войдут следующие категории:**\n",
    "\n",
    "- `'операции с автомобилем'`,\n",
    "- `'операции с недвижимостью'`,\n",
    "- `'проведение свадьбы'`,\n",
    "- `'получение образования'`.\n",
    "\n",
    "**Например, если в столбце `purpose` находится подстрока `'на покупку автомобиля'`, то в столбце `purpose_category` должна появиться строка `'операции с автомобилем'`.**\n",
    "\n",
    "**Используйте собственную функцию с именем `categorize_purpose()` и метод `apply()`. Изучите данные в столбце `purpose` и определите, какие подстроки помогут вам правильно определить категорию.**"
   ]
  },
  {
   "cell_type": "code",
   "execution_count": 20,
   "id": "be41da5d",
   "metadata": {
    "deletable": false,
    "id": "be41da5d"
   },
   "outputs": [],
   "source": [
    "def categorize_purpose(row):\n",
    "    try:\n",
    "        if 'автом' in row:\n",
    "            return 'операции с автомобилем'\n",
    "        elif 'жил' in row or 'недвиж' in row:\n",
    "            return 'операции с недвижимостью'\n",
    "        elif 'свад' in row:\n",
    "            return 'проведение свадьбы'\n",
    "        elif 'образов' in row:\n",
    "            return 'получение образования'\n",
    "    except:\n",
    "        return 'нет категории'"
   ]
  },
  {
   "cell_type": "code",
   "execution_count": 21,
   "id": "94c4a19a",
   "metadata": {
    "deletable": false,
    "id": "94c4a19a"
   },
   "outputs": [
    {
     "data": {
      "text/html": [
       "<div>\n",
       "<style scoped>\n",
       "    .dataframe tbody tr th:only-of-type {\n",
       "        vertical-align: middle;\n",
       "    }\n",
       "\n",
       "    .dataframe tbody tr th {\n",
       "        vertical-align: top;\n",
       "    }\n",
       "\n",
       "    .dataframe thead th {\n",
       "        text-align: right;\n",
       "    }\n",
       "</style>\n",
       "<table border=\"1\" class=\"dataframe\">\n",
       "  <thead>\n",
       "    <tr style=\"text-align: right;\">\n",
       "      <th></th>\n",
       "      <th>children</th>\n",
       "      <th>days_employed</th>\n",
       "      <th>dob_years</th>\n",
       "      <th>education</th>\n",
       "      <th>education_id</th>\n",
       "      <th>family_status</th>\n",
       "      <th>family_status_id</th>\n",
       "      <th>gender</th>\n",
       "      <th>income_type</th>\n",
       "      <th>debt</th>\n",
       "      <th>total_income</th>\n",
       "      <th>purpose</th>\n",
       "      <th>total_income_category</th>\n",
       "      <th>purpose_category</th>\n",
       "    </tr>\n",
       "  </thead>\n",
       "  <tbody>\n",
       "    <tr>\n",
       "      <th>15199</th>\n",
       "      <td>0</td>\n",
       "      <td>2879.094521</td>\n",
       "      <td>25</td>\n",
       "      <td>среднее</td>\n",
       "      <td>1</td>\n",
       "      <td>женат / замужем</td>\n",
       "      <td>0</td>\n",
       "      <td>F</td>\n",
       "      <td>госслужащий</td>\n",
       "      <td>0</td>\n",
       "      <td>214393</td>\n",
       "      <td>покупка жилой недвижимости</td>\n",
       "      <td>B</td>\n",
       "      <td>операции с недвижимостью</td>\n",
       "    </tr>\n",
       "    <tr>\n",
       "      <th>2203</th>\n",
       "      <td>0</td>\n",
       "      <td>1618.911339</td>\n",
       "      <td>56</td>\n",
       "      <td>высшее</td>\n",
       "      <td>0</td>\n",
       "      <td>гражданский брак</td>\n",
       "      <td>1</td>\n",
       "      <td>M</td>\n",
       "      <td>компаньон</td>\n",
       "      <td>0</td>\n",
       "      <td>188402</td>\n",
       "      <td>на проведение свадьбы</td>\n",
       "      <td>C</td>\n",
       "      <td>проведение свадьбы</td>\n",
       "    </tr>\n",
       "    <tr>\n",
       "      <th>20874</th>\n",
       "      <td>0</td>\n",
       "      <td>3235.885835</td>\n",
       "      <td>58</td>\n",
       "      <td>среднее</td>\n",
       "      <td>1</td>\n",
       "      <td>женат / замужем</td>\n",
       "      <td>0</td>\n",
       "      <td>F</td>\n",
       "      <td>сотрудник</td>\n",
       "      <td>0</td>\n",
       "      <td>90752</td>\n",
       "      <td>получение образования</td>\n",
       "      <td>C</td>\n",
       "      <td>получение образования</td>\n",
       "    </tr>\n",
       "    <tr>\n",
       "      <th>20556</th>\n",
       "      <td>0</td>\n",
       "      <td>364644.395227</td>\n",
       "      <td>62</td>\n",
       "      <td>среднее</td>\n",
       "      <td>1</td>\n",
       "      <td>женат / замужем</td>\n",
       "      <td>0</td>\n",
       "      <td>F</td>\n",
       "      <td>пенсионер</td>\n",
       "      <td>0</td>\n",
       "      <td>262517</td>\n",
       "      <td>получение высшего образования</td>\n",
       "      <td>B</td>\n",
       "      <td>получение образования</td>\n",
       "    </tr>\n",
       "    <tr>\n",
       "      <th>12056</th>\n",
       "      <td>1</td>\n",
       "      <td>753.375962</td>\n",
       "      <td>30</td>\n",
       "      <td>среднее</td>\n",
       "      <td>1</td>\n",
       "      <td>женат / замужем</td>\n",
       "      <td>0</td>\n",
       "      <td>M</td>\n",
       "      <td>сотрудник</td>\n",
       "      <td>0</td>\n",
       "      <td>66736</td>\n",
       "      <td>строительство жилой недвижимости</td>\n",
       "      <td>C</td>\n",
       "      <td>операции с недвижимостью</td>\n",
       "    </tr>\n",
       "    <tr>\n",
       "      <th>19067</th>\n",
       "      <td>1</td>\n",
       "      <td>347168.436064</td>\n",
       "      <td>54</td>\n",
       "      <td>среднее</td>\n",
       "      <td>1</td>\n",
       "      <td>женат / замужем</td>\n",
       "      <td>0</td>\n",
       "      <td>F</td>\n",
       "      <td>пенсионер</td>\n",
       "      <td>0</td>\n",
       "      <td>157691</td>\n",
       "      <td>ремонт жилью</td>\n",
       "      <td>C</td>\n",
       "      <td>операции с недвижимостью</td>\n",
       "    </tr>\n",
       "    <tr>\n",
       "      <th>18338</th>\n",
       "      <td>0</td>\n",
       "      <td>3776.681439</td>\n",
       "      <td>62</td>\n",
       "      <td>среднее</td>\n",
       "      <td>1</td>\n",
       "      <td>женат / замужем</td>\n",
       "      <td>0</td>\n",
       "      <td>M</td>\n",
       "      <td>сотрудник</td>\n",
       "      <td>0</td>\n",
       "      <td>204528</td>\n",
       "      <td>покупка недвижимости</td>\n",
       "      <td>B</td>\n",
       "      <td>операции с недвижимостью</td>\n",
       "    </tr>\n",
       "  </tbody>\n",
       "</table>\n",
       "</div>"
      ],
      "text/plain": [
       "       children  days_employed  dob_years education  education_id  \\\n",
       "15199         0    2879.094521         25   среднее             1   \n",
       "2203          0    1618.911339         56    высшее             0   \n",
       "20874         0    3235.885835         58   среднее             1   \n",
       "20556         0  364644.395227         62   среднее             1   \n",
       "12056         1     753.375962         30   среднее             1   \n",
       "19067         1  347168.436064         54   среднее             1   \n",
       "18338         0    3776.681439         62   среднее             1   \n",
       "\n",
       "          family_status  family_status_id gender  income_type  debt  \\\n",
       "15199   женат / замужем                 0      F  госслужащий     0   \n",
       "2203   гражданский брак                 1      M    компаньон     0   \n",
       "20874   женат / замужем                 0      F    сотрудник     0   \n",
       "20556   женат / замужем                 0      F    пенсионер     0   \n",
       "12056   женат / замужем                 0      M    сотрудник     0   \n",
       "19067   женат / замужем                 0      F    пенсионер     0   \n",
       "18338   женат / замужем                 0      M    сотрудник     0   \n",
       "\n",
       "       total_income                           purpose total_income_category  \\\n",
       "15199        214393        покупка жилой недвижимости                     B   \n",
       "2203         188402             на проведение свадьбы                     C   \n",
       "20874         90752             получение образования                     C   \n",
       "20556        262517     получение высшего образования                     B   \n",
       "12056         66736  строительство жилой недвижимости                     C   \n",
       "19067        157691                      ремонт жилью                     C   \n",
       "18338        204528              покупка недвижимости                     B   \n",
       "\n",
       "               purpose_category  \n",
       "15199  операции с недвижимостью  \n",
       "2203         проведение свадьбы  \n",
       "20874     получение образования  \n",
       "20556     получение образования  \n",
       "12056  операции с недвижимостью  \n",
       "19067  операции с недвижимостью  \n",
       "18338  операции с недвижимостью  "
      ]
     },
     "execution_count": 21,
     "metadata": {},
     "output_type": "execute_result"
    }
   ],
   "source": [
    "data['purpose_category'] = data['purpose'].apply(categorize_purpose)\n",
    "data.sample(7)"
   ]
  },
  {
   "cell_type": "markdown",
   "id": "3d596c34",
   "metadata": {
    "deletable": false,
    "editable": false,
    "id": "3d596c34"
   },
   "source": [
    "### Шаг 3. Исследуйте данные и ответьте на вопросы"
   ]
  },
  {
   "cell_type": "markdown",
   "id": "648db036",
   "metadata": {
    "deletable": false,
    "editable": false,
    "id": "648db036"
   },
   "source": [
    "#### 3.1 Есть ли зависимость между количеством детей и возвратом кредита в срок?"
   ]
  },
  {
   "cell_type": "code",
   "execution_count": 22,
   "id": "7fcff25e",
   "metadata": {
    "deletable": false,
    "id": "7fcff25e"
   },
   "outputs": [
    {
     "data": {
      "text/html": [
       "<div>\n",
       "<style scoped>\n",
       "    .dataframe tbody tr th:only-of-type {\n",
       "        vertical-align: middle;\n",
       "    }\n",
       "\n",
       "    .dataframe tbody tr th {\n",
       "        vertical-align: top;\n",
       "    }\n",
       "\n",
       "    .dataframe thead th {\n",
       "        text-align: right;\n",
       "    }\n",
       "</style>\n",
       "<table border=\"1\" class=\"dataframe\">\n",
       "  <thead>\n",
       "    <tr style=\"text-align: right;\">\n",
       "      <th></th>\n",
       "      <th>credits_count</th>\n",
       "      <th>overdue</th>\n",
       "      <th>share</th>\n",
       "    </tr>\n",
       "    <tr>\n",
       "      <th>children</th>\n",
       "      <th></th>\n",
       "      <th></th>\n",
       "      <th></th>\n",
       "    </tr>\n",
       "  </thead>\n",
       "  <tbody>\n",
       "    <tr>\n",
       "      <th>4</th>\n",
       "      <td>41</td>\n",
       "      <td>4</td>\n",
       "      <td>9.756</td>\n",
       "    </tr>\n",
       "    <tr>\n",
       "      <th>2</th>\n",
       "      <td>2052</td>\n",
       "      <td>194</td>\n",
       "      <td>9.454</td>\n",
       "    </tr>\n",
       "    <tr>\n",
       "      <th>1</th>\n",
       "      <td>4808</td>\n",
       "      <td>444</td>\n",
       "      <td>9.235</td>\n",
       "    </tr>\n",
       "    <tr>\n",
       "      <th>3</th>\n",
       "      <td>330</td>\n",
       "      <td>27</td>\n",
       "      <td>8.182</td>\n",
       "    </tr>\n",
       "    <tr>\n",
       "      <th>0</th>\n",
       "      <td>14091</td>\n",
       "      <td>1063</td>\n",
       "      <td>7.544</td>\n",
       "    </tr>\n",
       "    <tr>\n",
       "      <th>5</th>\n",
       "      <td>9</td>\n",
       "      <td>0</td>\n",
       "      <td>0.000</td>\n",
       "    </tr>\n",
       "  </tbody>\n",
       "</table>\n",
       "</div>"
      ],
      "text/plain": [
       "          credits_count  overdue  share\n",
       "children                               \n",
       "4                    41        4  9.756\n",
       "2                  2052      194  9.454\n",
       "1                  4808      444  9.235\n",
       "3                   330       27  8.182\n",
       "0                 14091     1063  7.544\n",
       "5                     9        0  0.000"
      ]
     },
     "metadata": {},
     "output_type": "display_data"
    }
   ],
   "source": [
    "data_children = data.pivot_table(index = ['children'], values = 'debt', aggfunc = {'count', 'sum'})\n",
    "data_children = data_children.rename(columns = {'count' : 'credits_count', 'sum' : 'overdue'})\n",
    "data_children['share'] = round(data_children['overdue'] / data_children['credits_count'] * 100, 3)\n",
    "data_children = data_children.sort_values(by = 'share', ascending = False)\n",
    "display(data_children)"
   ]
  },
  {
   "cell_type": "markdown",
   "id": "2eb9088e",
   "metadata": {
    "deletable": false,
    "id": "2eb9088e"
   },
   "source": [
    "**Вывод:** Наличие детей повышает вероятность задолжености. Вероятно, это связано с дополнительными расходами на детей. Однако, можно заметить, что в семьях где от 3 до 5 детей уровень должников ниже, чем в семьях с одним или двумя детьми. Это может быть связано либо с тем, что существуют программы поддержки многодетных семей или количество заемщиков в этих группах для данного сравнения недостаточно. Для категории граждан без детей самый низкий показатель должников."
   ]
  },
  {
   "cell_type": "markdown",
   "id": "74c9b3a7",
   "metadata": {
    "deletable": false,
    "editable": false,
    "id": "74c9b3a7"
   },
   "source": [
    "#### 3.2 Есть ли зависимость между семейным положением и возвратом кредита в срок?"
   ]
  },
  {
   "cell_type": "code",
   "execution_count": 23,
   "id": "8098ab3b",
   "metadata": {
    "deletable": false,
    "id": "8098ab3b",
    "scrolled": true
   },
   "outputs": [
    {
     "data": {
      "text/html": [
       "<div>\n",
       "<style scoped>\n",
       "    .dataframe tbody tr th:only-of-type {\n",
       "        vertical-align: middle;\n",
       "    }\n",
       "\n",
       "    .dataframe tbody tr th {\n",
       "        vertical-align: top;\n",
       "    }\n",
       "\n",
       "    .dataframe thead th {\n",
       "        text-align: right;\n",
       "    }\n",
       "</style>\n",
       "<table border=\"1\" class=\"dataframe\">\n",
       "  <thead>\n",
       "    <tr style=\"text-align: right;\">\n",
       "      <th></th>\n",
       "      <th>credits_count</th>\n",
       "      <th>overdue</th>\n",
       "      <th>share</th>\n",
       "    </tr>\n",
       "    <tr>\n",
       "      <th>family_status</th>\n",
       "      <th></th>\n",
       "      <th></th>\n",
       "      <th></th>\n",
       "    </tr>\n",
       "  </thead>\n",
       "  <tbody>\n",
       "    <tr>\n",
       "      <th>Не женат / не замужем</th>\n",
       "      <td>2796</td>\n",
       "      <td>273</td>\n",
       "      <td>9.764</td>\n",
       "    </tr>\n",
       "    <tr>\n",
       "      <th>гражданский брак</th>\n",
       "      <td>4134</td>\n",
       "      <td>385</td>\n",
       "      <td>9.313</td>\n",
       "    </tr>\n",
       "    <tr>\n",
       "      <th>женат / замужем</th>\n",
       "      <td>12261</td>\n",
       "      <td>927</td>\n",
       "      <td>7.561</td>\n",
       "    </tr>\n",
       "    <tr>\n",
       "      <th>в разводе</th>\n",
       "      <td>1189</td>\n",
       "      <td>84</td>\n",
       "      <td>7.065</td>\n",
       "    </tr>\n",
       "    <tr>\n",
       "      <th>вдовец / вдова</th>\n",
       "      <td>951</td>\n",
       "      <td>63</td>\n",
       "      <td>6.625</td>\n",
       "    </tr>\n",
       "  </tbody>\n",
       "</table>\n",
       "</div>"
      ],
      "text/plain": [
       "                       credits_count  overdue  share\n",
       "family_status                                       \n",
       "Не женат / не замужем           2796      273  9.764\n",
       "гражданский брак                4134      385  9.313\n",
       "женат / замужем                12261      927  7.561\n",
       "в разводе                       1189       84  7.065\n",
       "вдовец / вдова                   951       63  6.625"
      ]
     },
     "metadata": {},
     "output_type": "display_data"
    }
   ],
   "source": [
    "data_family_status = data.pivot_table(index = ['family_status'], values = 'debt', aggfunc = {'count', 'sum'})\n",
    "data_family_status = data_family_status.rename(columns = {'count' : 'credits_count', 'sum' : 'overdue'})\n",
    "data_family_status['share'] = round(data_family_status['overdue'] / data_family_status['credits_count'] * 100, 3)\n",
    "data_family_status = data_family_status.sort_values(by = 'share', ascending = False)\n",
    "display(data_family_status)"
   ]
  },
  {
   "cell_type": "markdown",
   "id": "c389ca63",
   "metadata": {
    "deletable": false,
    "id": "c389ca63"
   },
   "source": [
    "**Вывод:** семейное положение влияет на возврат кредита в срок. В группах \"Не женат / не замужем\" и \"Гражданский брак\" практически одинаково высокие показатели, а в остальных группах они значительно ниже."
   ]
  },
  {
   "cell_type": "markdown",
   "id": "9529de68",
   "metadata": {
    "deletable": false,
    "editable": false,
    "id": "9529de68"
   },
   "source": [
    "#### 3.3 Есть ли зависимость между уровнем дохода и возвратом кредита в срок?"
   ]
  },
  {
   "cell_type": "code",
   "execution_count": 24,
   "id": "8787f44a",
   "metadata": {
    "deletable": false,
    "id": "8787f44a"
   },
   "outputs": [
    {
     "data": {
      "text/html": [
       "<div>\n",
       "<style scoped>\n",
       "    .dataframe tbody tr th:only-of-type {\n",
       "        vertical-align: middle;\n",
       "    }\n",
       "\n",
       "    .dataframe tbody tr th {\n",
       "        vertical-align: top;\n",
       "    }\n",
       "\n",
       "    .dataframe thead th {\n",
       "        text-align: right;\n",
       "    }\n",
       "</style>\n",
       "<table border=\"1\" class=\"dataframe\">\n",
       "  <thead>\n",
       "    <tr style=\"text-align: right;\">\n",
       "      <th></th>\n",
       "      <th>credits_count</th>\n",
       "      <th>overdue</th>\n",
       "      <th>share</th>\n",
       "    </tr>\n",
       "    <tr>\n",
       "      <th>total_income_category</th>\n",
       "      <th></th>\n",
       "      <th></th>\n",
       "      <th></th>\n",
       "    </tr>\n",
       "  </thead>\n",
       "  <tbody>\n",
       "    <tr>\n",
       "      <th>E</th>\n",
       "      <td>22</td>\n",
       "      <td>2</td>\n",
       "      <td>9.091</td>\n",
       "    </tr>\n",
       "    <tr>\n",
       "      <th>C</th>\n",
       "      <td>15921</td>\n",
       "      <td>1353</td>\n",
       "      <td>8.498</td>\n",
       "    </tr>\n",
       "    <tr>\n",
       "      <th>A</th>\n",
       "      <td>25</td>\n",
       "      <td>2</td>\n",
       "      <td>8.000</td>\n",
       "    </tr>\n",
       "    <tr>\n",
       "      <th>B</th>\n",
       "      <td>5014</td>\n",
       "      <td>354</td>\n",
       "      <td>7.060</td>\n",
       "    </tr>\n",
       "    <tr>\n",
       "      <th>D</th>\n",
       "      <td>349</td>\n",
       "      <td>21</td>\n",
       "      <td>6.017</td>\n",
       "    </tr>\n",
       "  </tbody>\n",
       "</table>\n",
       "</div>"
      ],
      "text/plain": [
       "                       credits_count  overdue  share\n",
       "total_income_category                               \n",
       "E                                 22        2  9.091\n",
       "C                              15921     1353  8.498\n",
       "A                                 25        2  8.000\n",
       "B                               5014      354  7.060\n",
       "D                                349       21  6.017"
      ]
     },
     "metadata": {},
     "output_type": "display_data"
    }
   ],
   "source": [
    "data_total_income = data.pivot_table(index = ['total_income_category'], values = 'debt', aggfunc = {'count', 'sum'})\n",
    "data_total_income = data_total_income.rename(columns = {'count' : 'credits_count', 'sum' : 'overdue'})\n",
    "data_total_income['share'] = round(data_total_income['overdue'] / data_total_income['credits_count'] * 100, 3)\n",
    "data_total_income = data_total_income.sort_values(by = 'share', ascending = False)\n",
    "display(data_total_income)"
   ]
  },
  {
   "cell_type": "markdown",
   "id": "6dd14b57",
   "metadata": {
    "deletable": false,
    "id": "6dd14b57"
   },
   "source": [
    "**Вывод:** Уровень дохода влияет на возврат кредита. В группах \"А\" и \"Е\" очень мало данных их можно не учитывать, так как группе \"А\" кредитные средства с их уровнем дохода редко нужны, а группе \"Е\" с их низким уровнем доходов редко выдают кредиты. Сравнивая группы \"В\", \"С\" и \"D\" делаем вывод, что наибольший риск стать должниками у категории \"C\", а наименьший у группы \"D\"."
   ]
  },
  {
   "cell_type": "markdown",
   "id": "1dcc9b12",
   "metadata": {
    "deletable": false,
    "editable": false,
    "id": "1dcc9b12"
   },
   "source": [
    "#### 3.4 Как разные цели кредита влияют на его возврат в срок?"
   ]
  },
  {
   "cell_type": "code",
   "execution_count": 25,
   "id": "c602bc8b",
   "metadata": {
    "deletable": false,
    "id": "c602bc8b"
   },
   "outputs": [
    {
     "data": {
      "text/html": [
       "<div>\n",
       "<style scoped>\n",
       "    .dataframe tbody tr th:only-of-type {\n",
       "        vertical-align: middle;\n",
       "    }\n",
       "\n",
       "    .dataframe tbody tr th {\n",
       "        vertical-align: top;\n",
       "    }\n",
       "\n",
       "    .dataframe thead th {\n",
       "        text-align: right;\n",
       "    }\n",
       "</style>\n",
       "<table border=\"1\" class=\"dataframe\">\n",
       "  <thead>\n",
       "    <tr style=\"text-align: right;\">\n",
       "      <th></th>\n",
       "      <th>credits_count</th>\n",
       "      <th>overdue</th>\n",
       "      <th>share</th>\n",
       "    </tr>\n",
       "    <tr>\n",
       "      <th>purpose_category</th>\n",
       "      <th></th>\n",
       "      <th></th>\n",
       "      <th></th>\n",
       "    </tr>\n",
       "  </thead>\n",
       "  <tbody>\n",
       "    <tr>\n",
       "      <th>операции с автомобилем</th>\n",
       "      <td>4279</td>\n",
       "      <td>400</td>\n",
       "      <td>9.348</td>\n",
       "    </tr>\n",
       "    <tr>\n",
       "      <th>операции с недвижимостью</th>\n",
       "      <td>10751</td>\n",
       "      <td>780</td>\n",
       "      <td>7.255</td>\n",
       "    </tr>\n",
       "    <tr>\n",
       "      <th>получение образования</th>\n",
       "      <td>3988</td>\n",
       "      <td>369</td>\n",
       "      <td>9.253</td>\n",
       "    </tr>\n",
       "    <tr>\n",
       "      <th>проведение свадьбы</th>\n",
       "      <td>2313</td>\n",
       "      <td>183</td>\n",
       "      <td>7.912</td>\n",
       "    </tr>\n",
       "  </tbody>\n",
       "</table>\n",
       "</div>"
      ],
      "text/plain": [
       "                          credits_count  overdue  share\n",
       "purpose_category                                       \n",
       "операции с автомобилем             4279      400  9.348\n",
       "операции с недвижимостью          10751      780  7.255\n",
       "получение образования              3988      369  9.253\n",
       "проведение свадьбы                 2313      183  7.912"
      ]
     },
     "metadata": {},
     "output_type": "display_data"
    }
   ],
   "source": [
    "data_purpose_category = data.pivot_table(index = ['purpose_category'], values = 'debt', aggfunc = {'count', 'sum'})\n",
    "data_purpose_category = data_purpose_category.rename(columns = {'count' : 'credits_count', 'sum' : 'overdue'})\n",
    "data_purpose_category['share'] = round(data_purpose_category['overdue'] / data_purpose_category['credits_count'] * 100, 3)\n",
    "data_total_income = data_total_income.sort_values(by = 'share', ascending = False)\n",
    "display(data_purpose_category)"
   ]
  },
  {
   "cell_type": "markdown",
   "id": "cf05ed63",
   "metadata": {
    "deletable": false,
    "id": "cf05ed63"
   },
   "source": [
    "**Вывод:** Граждане, берущие кредиты на получение образования и операции с автомобилем больше подвержены риску стать должниками. Граждане, которые берут кредит для проведения операций с недвижимостью более отвественно подходят к его погашению."
   ]
  },
  {
   "cell_type": "markdown",
   "id": "46c1f10b",
   "metadata": {
    "deletable": false,
    "editable": false,
    "id": "46c1f10b"
   },
   "source": [
    "#### 3.5 Приведите возможные причины появления пропусков в исходных данных."
   ]
  },
  {
   "cell_type": "markdown",
   "id": "3697d2a9",
   "metadata": {
    "deletable": false,
    "id": "3697d2a9"
   },
   "source": [
    "*Ответ:* Причинами могут быть: неверный ввод данных, сокрытие информации, повреждение файла данных при сохранении, технические проблемы."
   ]
  },
  {
   "cell_type": "markdown",
   "id": "3137d257",
   "metadata": {
    "deletable": false,
    "editable": false,
    "id": "3137d257"
   },
   "source": [
    "#### 3.6 Объясните, почему заполнить пропуски медианным значением — лучшее решение для количественных переменных."
   ]
  },
  {
   "cell_type": "markdown",
   "id": "cf40012a",
   "metadata": {
    "deletable": false,
    "id": "cf40012a"
   },
   "source": [
    "*Ответ:* Возможно потому что медиана устойчива к выбросам и аномальным значениям."
   ]
  },
  {
   "cell_type": "markdown",
   "id": "57bc304e",
   "metadata": {
    "deletable": false,
    "editable": false,
    "id": "57bc304e"
   },
   "source": [
    "### Шаг 4: общий вывод."
   ]
  },
  {
   "cell_type": "markdown",
   "id": "21cb5654",
   "metadata": {},
   "source": [
    "  В ходе ознакомления с таблицей были обнаружены пропуски, аномальные значения, дубликаты в некоторых данных. \n",
    "  \n",
    "  **Пропуски** в столбце \"total_income — данные о доходах\". На сумму дохода сильнее всего влияет тип занятости, поэтому заполнялись пропуски в этом столбце медианным значением по каждому типу из столбца \"income_type\".  \n",
    "\n",
    "  **Аномальные значения** были найдены в столбце \"children - количество детей\" ([ 1,  0,  3,  2, **-1**,  4, **20**,  5]). Исправленно удалением строк.  \n",
    "  \n",
    "  **Дубликаты** (неявные) были выявлены в столбце \"education - уровень образования\" . В этом столбце были одни и те же значения, но записанные по-разному: с использованием заглавных и строчных букв. Все приведены к нижнему регистру.  \n",
    "  \n",
    "  **Категоризация данных**  \n",
    "  Для улучшения и удобства просмотра была проведена категоризация и создан столбец \"total_income_category\" с категориями: 0–30000 — 'E'; 30001–50000 — 'D'; 50001–200000 — 'C'; 200001–1000000 — 'B'; 1000001 и выше — 'A'.\n",
    "Распределяющий всех заёмщиков по уровню дохода в соответствующие категории.\n",
    "  "
   ]
  },
  {
   "cell_type": "markdown",
   "id": "1ab75d1c",
   "metadata": {
    "deletable": false,
    "id": "1ab75d1c"
   },
   "source": [
    "\n",
    "\n",
    "1. Да, у заемщиков с детьми больше вероятность просрочки.  \n",
    "\n",
    "  Группы где 1 или 2 ребёнка самые большие показатели (группа \"1\": количество заёмщиков 4808, количество просрочек 444, доля просроченных платежей 9.235), (группа \"2\": количество заёмщиков 2052, количество просрочек 194, доля просроченных платежей 9.454) Вэтом сегменте минимальные просрочки будут в группе \"бездетные\" или \"0\" детей (количество заёмщиков 14091, количество просрочек 1063, доля просрочек 7.544)\n",
    "  \n",
    "2. Да есть зависимость между семейным положением и возвратом кредита в срок.  \n",
    "\n",
    "  В группах \"Не женат/не замужем\" и \"гражданский брак\" самые высокие показатели (Не женат / не замужем: количество заёмщиков 2796, количество просрочек 273, доля просроченных платежей 9.764), (гражданский брак: количество заёмщиков: 4134, количество просрочек 385, доля просроченных платежей\t9.313). Самые минимальные показатели в группе \"вдовец / вдова\" (количество заёмщиков 951, количество просрочек 63, доля просроченных платежей 6.625).\n",
    "  \n",
    "3. Да есть зависимость между уровнем дохода и возвратом кредита в срок.  \n",
    "\n",
    "  В группах \"А\", \"D\" и \"Е\" очень мало данных их можно не учитывать, так как группе \"А\" (количество заёмщиков 25, количество просрочек 2, доля просроченных платежей 8.000) кредитные средства с их уровнем дохода редко нужны, а группе \"Е\" (количество заёмщиков 22, количество просрочек 2, доля просроченных платежей 9.091) с их низким уровнем доходов редко выдают кредиты. В группе \"D\" (количество заёмщиков 349, количество просрочек 21, доля просроченных платежей 6.017) скорее всего таже ситуация что и в группе \"Е\". Сравнивая группы \"В\" И \"С\" делаем вывод, что наибольший риск стать должниками у категории \"C\" (количество заёмщиков 15921, количество просрочек 1353, доля просроченных платежей 8.498) , а наименьший у группы \"В\".  \n",
    "  \n",
    "4. Да разные цели кредита влияют на его возврат в срок.  \n",
    "\n",
    "  Граждане, берущие кредиты на получение образования (количество заёмщиков 3988, количество просрочек 369, доля просроченных платежей 9.253) и операции с автомобилем (количество заёмщиков 4279, количество просрочек 400, доля просроченных платежей 9.348) больше подвержены риску стать должниками. Граждане, которые берут кредит для проведения операций с недвижимостью (количество заёмщиков 10751, количество просрочек 780, доля просроченных платежей 7.255) более отвественно подходят к его погашению.\n",
    " \n",
    "Причинами появления пропусков в данных могут быть: неверный ввод данных, сокрытие информации, повреждение файла данных при сохранении, технические проблемы.\n",
    "\n",
    "Заполнение пропусков для количественных переменных медианой является лучшим решением из-за устойчивости медианы к выбросам и аномальным значениям."
   ]
  }
 ],
 "metadata": {
  "ExecuteTimeLog": [
   {
    "duration": 51,
    "start_time": "2023-05-25T17:55:21.304Z"
   },
   {
    "duration": 6,
    "start_time": "2023-05-25T17:56:11.734Z"
   },
   {
    "duration": 474,
    "start_time": "2023-05-25T18:02:33.469Z"
   },
   {
    "duration": 3,
    "start_time": "2023-05-25T18:04:43.162Z"
   },
   {
    "duration": 8,
    "start_time": "2023-05-25T18:06:49.898Z"
   },
   {
    "duration": 24,
    "start_time": "2023-05-25T18:07:35.307Z"
   },
   {
    "duration": 19,
    "start_time": "2023-05-25T18:08:19.817Z"
   },
   {
    "duration": 41,
    "start_time": "2023-05-27T06:45:35.845Z"
   },
   {
    "duration": 6,
    "start_time": "2023-05-27T06:49:39.344Z"
   },
   {
    "duration": 6,
    "start_time": "2023-05-27T06:50:43.274Z"
   },
   {
    "duration": 7,
    "start_time": "2023-05-27T06:59:01.708Z"
   },
   {
    "duration": 8,
    "start_time": "2023-05-27T07:03:15.865Z"
   },
   {
    "duration": 13,
    "start_time": "2023-05-27T07:06:10.806Z"
   },
   {
    "duration": 10,
    "start_time": "2023-05-27T07:34:12.980Z"
   },
   {
    "duration": 5,
    "start_time": "2023-05-27T07:42:02.507Z"
   },
   {
    "duration": 9,
    "start_time": "2023-05-27T07:42:37.376Z"
   },
   {
    "duration": 8,
    "start_time": "2023-05-27T07:49:15.926Z"
   },
   {
    "duration": 15,
    "start_time": "2023-05-27T07:50:42.204Z"
   },
   {
    "duration": 14,
    "start_time": "2023-05-27T07:51:19.503Z"
   },
   {
    "duration": 7,
    "start_time": "2023-05-27T07:53:36.556Z"
   },
   {
    "duration": 5,
    "start_time": "2023-05-27T07:54:26.077Z"
   },
   {
    "duration": 6,
    "start_time": "2023-05-27T07:57:37.846Z"
   },
   {
    "duration": 633,
    "start_time": "2023-05-27T08:19:23.488Z"
   },
   {
    "duration": 38,
    "start_time": "2023-05-27T08:19:24.123Z"
   },
   {
    "duration": 16,
    "start_time": "2023-05-27T08:19:24.163Z"
   },
   {
    "duration": 10,
    "start_time": "2023-05-27T08:19:24.180Z"
   },
   {
    "duration": 42,
    "start_time": "2023-05-27T08:19:24.193Z"
   },
   {
    "duration": 3,
    "start_time": "2023-05-27T08:19:24.237Z"
   },
   {
    "duration": 15,
    "start_time": "2023-05-27T08:19:24.242Z"
   },
   {
    "duration": 8,
    "start_time": "2023-05-27T08:19:24.259Z"
   },
   {
    "duration": 13,
    "start_time": "2023-05-27T08:19:24.268Z"
   },
   {
    "duration": 5,
    "start_time": "2023-05-27T08:19:24.287Z"
   },
   {
    "duration": 58,
    "start_time": "2023-05-27T08:19:24.294Z"
   },
   {
    "duration": 16,
    "start_time": "2023-05-27T08:19:24.353Z"
   },
   {
    "duration": 4,
    "start_time": "2023-05-27T08:19:24.374Z"
   },
   {
    "duration": 11,
    "start_time": "2023-05-27T08:19:24.383Z"
   },
   {
    "duration": 31,
    "start_time": "2023-05-27T08:19:24.396Z"
   },
   {
    "duration": 25,
    "start_time": "2023-05-27T08:19:24.428Z"
   },
   {
    "duration": 11,
    "start_time": "2023-05-27T08:19:24.455Z"
   },
   {
    "duration": 35,
    "start_time": "2023-05-27T08:19:24.470Z"
   },
   {
    "duration": 25,
    "start_time": "2023-05-27T08:19:24.528Z"
   },
   {
    "duration": 5,
    "start_time": "2023-05-27T08:19:24.555Z"
   },
   {
    "duration": 28,
    "start_time": "2023-05-27T08:19:24.562Z"
   },
   {
    "duration": 805,
    "start_time": "2023-05-27T08:49:39.336Z"
   },
   {
    "duration": 15,
    "start_time": "2023-05-27T08:50:49.856Z"
   },
   {
    "duration": 19,
    "start_time": "2023-05-27T08:51:24.058Z"
   },
   {
    "duration": 19,
    "start_time": "2023-05-27T09:24:47.793Z"
   },
   {
    "duration": 16,
    "start_time": "2023-05-27T09:34:39.093Z"
   },
   {
    "duration": 31,
    "start_time": "2023-05-27T09:39:05.496Z"
   },
   {
    "duration": 25,
    "start_time": "2023-05-27T09:42:32.301Z"
   },
   {
    "duration": 18,
    "start_time": "2023-05-27T12:34:18.970Z"
   },
   {
    "duration": 710,
    "start_time": "2023-05-27T15:09:08.764Z"
   },
   {
    "duration": 27,
    "start_time": "2023-05-27T15:09:09.475Z"
   },
   {
    "duration": 33,
    "start_time": "2023-05-27T15:09:09.504Z"
   },
   {
    "duration": 13,
    "start_time": "2023-05-27T15:09:09.540Z"
   },
   {
    "duration": 36,
    "start_time": "2023-05-27T15:09:09.554Z"
   },
   {
    "duration": 5,
    "start_time": "2023-05-27T15:09:09.591Z"
   },
   {
    "duration": 22,
    "start_time": "2023-05-27T15:09:09.600Z"
   },
   {
    "duration": 8,
    "start_time": "2023-05-27T15:09:09.623Z"
   },
   {
    "duration": 8,
    "start_time": "2023-05-27T15:09:09.632Z"
   },
   {
    "duration": 4,
    "start_time": "2023-05-27T15:09:09.644Z"
   },
   {
    "duration": 32,
    "start_time": "2023-05-27T15:09:09.650Z"
   },
   {
    "duration": 11,
    "start_time": "2023-05-27T15:09:09.683Z"
   },
   {
    "duration": 12,
    "start_time": "2023-05-27T15:09:09.695Z"
   },
   {
    "duration": 16,
    "start_time": "2023-05-27T15:09:09.708Z"
   },
   {
    "duration": 16,
    "start_time": "2023-05-27T15:09:09.725Z"
   },
   {
    "duration": 14,
    "start_time": "2023-05-27T15:09:09.742Z"
   },
   {
    "duration": 3,
    "start_time": "2023-05-27T15:09:09.757Z"
   },
   {
    "duration": 19,
    "start_time": "2023-05-27T15:09:09.762Z"
   },
   {
    "duration": 21,
    "start_time": "2023-05-27T15:09:09.782Z"
   },
   {
    "duration": 5,
    "start_time": "2023-05-27T15:09:09.804Z"
   },
   {
    "duration": 19,
    "start_time": "2023-05-27T15:09:09.811Z"
   },
   {
    "duration": 107,
    "start_time": "2023-05-27T15:09:09.832Z"
   },
   {
    "duration": 0,
    "start_time": "2023-05-27T15:09:09.940Z"
   },
   {
    "duration": 0,
    "start_time": "2023-05-27T15:09:09.941Z"
   },
   {
    "duration": 0,
    "start_time": "2023-05-27T15:09:09.942Z"
   },
   {
    "duration": 149,
    "start_time": "2023-05-27T19:19:40.200Z"
   },
   {
    "duration": 22,
    "start_time": "2023-05-27T19:34:26.130Z"
   },
   {
    "duration": 14,
    "start_time": "2023-05-27T19:36:46.805Z"
   },
   {
    "duration": 9,
    "start_time": "2023-05-27T19:38:37.051Z"
   },
   {
    "duration": 17,
    "start_time": "2023-05-27T19:38:49.082Z"
   },
   {
    "duration": 7,
    "start_time": "2023-05-27T19:39:35.458Z"
   },
   {
    "duration": 594,
    "start_time": "2023-05-27T19:39:49.207Z"
   },
   {
    "duration": 32,
    "start_time": "2023-05-27T19:39:49.808Z"
   },
   {
    "duration": 18,
    "start_time": "2023-05-27T19:39:49.842Z"
   },
   {
    "duration": 11,
    "start_time": "2023-05-27T19:39:49.862Z"
   },
   {
    "duration": 51,
    "start_time": "2023-05-27T19:39:49.878Z"
   },
   {
    "duration": 4,
    "start_time": "2023-05-27T19:39:49.931Z"
   },
   {
    "duration": 42,
    "start_time": "2023-05-27T19:39:49.937Z"
   },
   {
    "duration": 4,
    "start_time": "2023-05-27T19:39:49.981Z"
   },
   {
    "duration": 11,
    "start_time": "2023-05-27T19:39:49.986Z"
   },
   {
    "duration": 39,
    "start_time": "2023-05-27T19:39:50.000Z"
   },
   {
    "duration": 65,
    "start_time": "2023-05-27T19:39:50.041Z"
   },
   {
    "duration": 14,
    "start_time": "2023-05-27T19:39:50.113Z"
   },
   {
    "duration": 8,
    "start_time": "2023-05-27T19:39:50.129Z"
   },
   {
    "duration": 25,
    "start_time": "2023-05-27T19:39:50.139Z"
   },
   {
    "duration": 40,
    "start_time": "2023-05-27T19:39:50.166Z"
   },
   {
    "duration": 19,
    "start_time": "2023-05-27T19:39:50.208Z"
   },
   {
    "duration": 3,
    "start_time": "2023-05-27T19:39:50.229Z"
   },
   {
    "duration": 16,
    "start_time": "2023-05-27T19:39:50.234Z"
   },
   {
    "duration": 11,
    "start_time": "2023-05-27T19:39:50.252Z"
   },
   {
    "duration": 18,
    "start_time": "2023-05-27T19:39:50.264Z"
   },
   {
    "duration": 29,
    "start_time": "2023-05-27T19:39:50.284Z"
   },
   {
    "duration": 25,
    "start_time": "2023-05-27T19:39:50.315Z"
   },
   {
    "duration": 22,
    "start_time": "2023-05-27T19:39:50.342Z"
   },
   {
    "duration": 45,
    "start_time": "2023-05-27T19:39:50.366Z"
   },
   {
    "duration": 28,
    "start_time": "2023-05-27T19:39:50.413Z"
   },
   {
    "duration": 522,
    "start_time": "2023-05-28T09:24:45.012Z"
   },
   {
    "duration": 20,
    "start_time": "2023-05-28T09:24:45.536Z"
   },
   {
    "duration": 13,
    "start_time": "2023-05-28T09:24:45.557Z"
   },
   {
    "duration": 8,
    "start_time": "2023-05-28T09:24:45.571Z"
   },
   {
    "duration": 45,
    "start_time": "2023-05-28T09:24:45.581Z"
   },
   {
    "duration": 3,
    "start_time": "2023-05-28T09:24:45.628Z"
   },
   {
    "duration": 9,
    "start_time": "2023-05-28T09:24:45.633Z"
   },
   {
    "duration": 5,
    "start_time": "2023-05-28T09:24:45.643Z"
   },
   {
    "duration": 7,
    "start_time": "2023-05-28T09:24:45.649Z"
   },
   {
    "duration": 4,
    "start_time": "2023-05-28T09:24:45.658Z"
   },
   {
    "duration": 65,
    "start_time": "2023-05-28T09:24:45.663Z"
   },
   {
    "duration": 9,
    "start_time": "2023-05-28T09:24:45.730Z"
   },
   {
    "duration": 3,
    "start_time": "2023-05-28T09:24:45.741Z"
   },
   {
    "duration": 10,
    "start_time": "2023-05-28T09:24:45.747Z"
   },
   {
    "duration": 17,
    "start_time": "2023-05-28T09:24:45.759Z"
   },
   {
    "duration": 45,
    "start_time": "2023-05-28T09:24:45.778Z"
   },
   {
    "duration": 3,
    "start_time": "2023-05-28T09:24:45.825Z"
   },
   {
    "duration": 16,
    "start_time": "2023-05-28T09:24:45.829Z"
   },
   {
    "duration": 7,
    "start_time": "2023-05-28T09:24:45.847Z"
   },
   {
    "duration": 4,
    "start_time": "2023-05-28T09:24:45.855Z"
   },
   {
    "duration": 17,
    "start_time": "2023-05-28T09:24:45.860Z"
   },
   {
    "duration": 39,
    "start_time": "2023-05-28T09:24:45.879Z"
   },
   {
    "duration": 19,
    "start_time": "2023-05-28T09:24:45.920Z"
   },
   {
    "duration": 16,
    "start_time": "2023-05-28T09:24:45.941Z"
   },
   {
    "duration": 17,
    "start_time": "2023-05-28T09:24:45.959Z"
   },
   {
    "duration": 453,
    "start_time": "2023-05-30T17:22:08.868Z"
   },
   {
    "duration": 20,
    "start_time": "2023-05-30T17:22:09.322Z"
   },
   {
    "duration": 12,
    "start_time": "2023-05-30T17:22:09.343Z"
   },
   {
    "duration": 7,
    "start_time": "2023-05-30T17:22:09.357Z"
   },
   {
    "duration": 53,
    "start_time": "2023-05-30T17:22:09.365Z"
   },
   {
    "duration": 4,
    "start_time": "2023-05-30T17:22:09.419Z"
   },
   {
    "duration": 11,
    "start_time": "2023-05-30T17:22:09.424Z"
   },
   {
    "duration": 5,
    "start_time": "2023-05-30T17:22:09.437Z"
   },
   {
    "duration": 6,
    "start_time": "2023-05-30T17:22:09.443Z"
   },
   {
    "duration": 4,
    "start_time": "2023-05-30T17:22:09.453Z"
   },
   {
    "duration": 27,
    "start_time": "2023-05-30T17:22:09.485Z"
   },
   {
    "duration": 9,
    "start_time": "2023-05-30T17:22:09.513Z"
   },
   {
    "duration": 4,
    "start_time": "2023-05-30T17:22:09.524Z"
   },
   {
    "duration": 16,
    "start_time": "2023-05-30T17:22:09.529Z"
   },
   {
    "duration": 38,
    "start_time": "2023-05-30T17:22:09.547Z"
   },
   {
    "duration": 16,
    "start_time": "2023-05-30T17:22:09.587Z"
   },
   {
    "duration": 4,
    "start_time": "2023-05-30T17:22:09.604Z"
   },
   {
    "duration": 21,
    "start_time": "2023-05-30T17:22:09.609Z"
   },
   {
    "duration": 6,
    "start_time": "2023-05-30T17:22:09.631Z"
   },
   {
    "duration": 4,
    "start_time": "2023-05-30T17:22:09.639Z"
   },
   {
    "duration": 10,
    "start_time": "2023-05-30T17:22:09.645Z"
   },
   {
    "duration": 39,
    "start_time": "2023-05-30T17:22:09.656Z"
   },
   {
    "duration": 19,
    "start_time": "2023-05-30T17:22:09.697Z"
   },
   {
    "duration": 18,
    "start_time": "2023-05-30T17:22:09.717Z"
   },
   {
    "duration": 19,
    "start_time": "2023-05-30T17:22:09.737Z"
   },
   {
    "duration": 560,
    "start_time": "2023-06-01T20:46:24.142Z"
   },
   {
    "duration": 23,
    "start_time": "2023-06-01T20:46:24.704Z"
   },
   {
    "duration": 16,
    "start_time": "2023-06-01T20:46:24.728Z"
   },
   {
    "duration": 9,
    "start_time": "2023-06-01T20:46:24.746Z"
   },
   {
    "duration": 32,
    "start_time": "2023-06-01T20:46:24.757Z"
   },
   {
    "duration": 5,
    "start_time": "2023-06-01T20:46:24.790Z"
   },
   {
    "duration": 10,
    "start_time": "2023-06-01T20:46:24.796Z"
   },
   {
    "duration": 31,
    "start_time": "2023-06-01T20:46:24.808Z"
   },
   {
    "duration": 13,
    "start_time": "2023-06-01T20:46:24.840Z"
   },
   {
    "duration": 6,
    "start_time": "2023-06-01T20:46:24.857Z"
   },
   {
    "duration": 37,
    "start_time": "2023-06-01T20:46:24.865Z"
   },
   {
    "duration": 9,
    "start_time": "2023-06-01T20:46:24.904Z"
   },
   {
    "duration": 16,
    "start_time": "2023-06-01T20:46:24.915Z"
   },
   {
    "duration": 15,
    "start_time": "2023-06-01T20:46:24.933Z"
   },
   {
    "duration": 24,
    "start_time": "2023-06-01T20:46:24.956Z"
   },
   {
    "duration": 18,
    "start_time": "2023-06-01T20:46:24.981Z"
   },
   {
    "duration": 4,
    "start_time": "2023-06-01T20:46:25.001Z"
   },
   {
    "duration": 27,
    "start_time": "2023-06-01T20:46:25.006Z"
   },
   {
    "duration": 18,
    "start_time": "2023-06-01T20:46:25.034Z"
   },
   {
    "duration": 11,
    "start_time": "2023-06-01T20:46:25.057Z"
   },
   {
    "duration": 16,
    "start_time": "2023-06-01T20:46:25.070Z"
   },
   {
    "duration": 110,
    "start_time": "2023-06-01T20:46:25.087Z"
   },
   {
    "duration": 23,
    "start_time": "2023-06-01T20:46:25.198Z"
   },
   {
    "duration": 55,
    "start_time": "2023-06-01T20:46:25.223Z"
   },
   {
    "duration": 90,
    "start_time": "2023-06-01T20:46:25.280Z"
   },
   {
    "duration": 1301,
    "start_time": "2023-06-02T06:59:35.209Z"
   },
   {
    "duration": 45,
    "start_time": "2023-06-02T06:59:36.512Z"
   },
   {
    "duration": 30,
    "start_time": "2023-06-02T06:59:36.560Z"
   },
   {
    "duration": 9,
    "start_time": "2023-06-02T06:59:36.592Z"
   },
   {
    "duration": 61,
    "start_time": "2023-06-02T06:59:36.603Z"
   },
   {
    "duration": 4,
    "start_time": "2023-06-02T06:59:36.667Z"
   },
   {
    "duration": 13,
    "start_time": "2023-06-02T06:59:36.672Z"
   },
   {
    "duration": 4,
    "start_time": "2023-06-02T06:59:36.687Z"
   },
   {
    "duration": 9,
    "start_time": "2023-06-02T06:59:36.692Z"
   },
   {
    "duration": 35,
    "start_time": "2023-06-02T06:59:36.704Z"
   },
   {
    "duration": 39,
    "start_time": "2023-06-02T06:59:36.748Z"
   },
   {
    "duration": 10,
    "start_time": "2023-06-02T06:59:36.789Z"
   },
   {
    "duration": 6,
    "start_time": "2023-06-02T06:59:36.801Z"
   },
   {
    "duration": 42,
    "start_time": "2023-06-02T06:59:36.809Z"
   },
   {
    "duration": 24,
    "start_time": "2023-06-02T06:59:36.861Z"
   },
   {
    "duration": 17,
    "start_time": "2023-06-02T06:59:36.887Z"
   },
   {
    "duration": 3,
    "start_time": "2023-06-02T06:59:36.906Z"
   },
   {
    "duration": 53,
    "start_time": "2023-06-02T06:59:36.911Z"
   },
   {
    "duration": 7,
    "start_time": "2023-06-02T06:59:36.966Z"
   },
   {
    "duration": 4,
    "start_time": "2023-06-02T06:59:36.974Z"
   },
   {
    "duration": 11,
    "start_time": "2023-06-02T06:59:36.979Z"
   },
   {
    "duration": 23,
    "start_time": "2023-06-02T06:59:36.992Z"
   },
   {
    "duration": 47,
    "start_time": "2023-06-02T06:59:37.024Z"
   },
   {
    "duration": 20,
    "start_time": "2023-06-02T06:59:37.072Z"
   },
   {
    "duration": 21,
    "start_time": "2023-06-02T06:59:37.094Z"
   },
   {
    "duration": 540,
    "start_time": "2023-06-02T07:32:36.881Z"
   },
   {
    "duration": 22,
    "start_time": "2023-06-02T07:32:37.423Z"
   },
   {
    "duration": 18,
    "start_time": "2023-06-02T07:32:37.446Z"
   },
   {
    "duration": 10,
    "start_time": "2023-06-02T07:32:37.466Z"
   },
   {
    "duration": 47,
    "start_time": "2023-06-02T07:32:37.477Z"
   },
   {
    "duration": 3,
    "start_time": "2023-06-02T07:32:37.526Z"
   },
   {
    "duration": 31,
    "start_time": "2023-06-02T07:32:37.530Z"
   },
   {
    "duration": 8,
    "start_time": "2023-06-02T07:32:37.563Z"
   },
   {
    "duration": 11,
    "start_time": "2023-06-02T07:32:37.573Z"
   },
   {
    "duration": 7,
    "start_time": "2023-06-02T07:32:37.588Z"
   },
   {
    "duration": 60,
    "start_time": "2023-06-02T07:32:37.609Z"
   },
   {
    "duration": 10,
    "start_time": "2023-06-02T07:32:37.671Z"
   },
   {
    "duration": 19,
    "start_time": "2023-06-02T07:32:37.683Z"
   },
   {
    "duration": 25,
    "start_time": "2023-06-02T07:32:37.704Z"
   },
   {
    "duration": 29,
    "start_time": "2023-06-02T07:32:37.731Z"
   },
   {
    "duration": 17,
    "start_time": "2023-06-02T07:32:37.761Z"
   },
   {
    "duration": 4,
    "start_time": "2023-06-02T07:32:37.779Z"
   },
   {
    "duration": 14,
    "start_time": "2023-06-02T07:32:37.784Z"
   },
   {
    "duration": 8,
    "start_time": "2023-06-02T07:32:37.799Z"
   },
   {
    "duration": 3,
    "start_time": "2023-06-02T07:32:37.818Z"
   },
   {
    "duration": 15,
    "start_time": "2023-06-02T07:32:37.823Z"
   },
   {
    "duration": 26,
    "start_time": "2023-06-02T07:32:37.839Z"
   },
   {
    "duration": 21,
    "start_time": "2023-06-02T07:32:37.867Z"
   },
   {
    "duration": 45,
    "start_time": "2023-06-02T07:32:37.889Z"
   },
   {
    "duration": 29,
    "start_time": "2023-06-02T07:32:37.936Z"
   },
   {
    "duration": 456,
    "start_time": "2023-06-02T07:52:03.085Z"
   },
   {
    "duration": 23,
    "start_time": "2023-06-02T07:52:03.543Z"
   },
   {
    "duration": 15,
    "start_time": "2023-06-02T07:52:03.568Z"
   },
   {
    "duration": 13,
    "start_time": "2023-06-02T07:52:03.585Z"
   },
   {
    "duration": 47,
    "start_time": "2023-06-02T07:52:03.600Z"
   },
   {
    "duration": 4,
    "start_time": "2023-06-02T07:52:03.649Z"
   },
   {
    "duration": 16,
    "start_time": "2023-06-02T07:52:03.655Z"
   },
   {
    "duration": 6,
    "start_time": "2023-06-02T07:52:03.673Z"
   },
   {
    "duration": 28,
    "start_time": "2023-06-02T07:52:03.680Z"
   },
   {
    "duration": 6,
    "start_time": "2023-06-02T07:52:03.711Z"
   },
   {
    "duration": 42,
    "start_time": "2023-06-02T07:52:03.719Z"
   },
   {
    "duration": 8,
    "start_time": "2023-06-02T07:52:03.762Z"
   },
   {
    "duration": 3,
    "start_time": "2023-06-02T07:52:03.772Z"
   },
   {
    "duration": 11,
    "start_time": "2023-06-02T07:52:03.776Z"
   },
   {
    "duration": 45,
    "start_time": "2023-06-02T07:52:03.788Z"
   },
   {
    "duration": 23,
    "start_time": "2023-06-02T07:52:03.836Z"
   },
   {
    "duration": 3,
    "start_time": "2023-06-02T07:52:03.860Z"
   },
   {
    "duration": 15,
    "start_time": "2023-06-02T07:52:03.865Z"
   },
   {
    "duration": 13,
    "start_time": "2023-06-02T07:52:03.881Z"
   },
   {
    "duration": 21,
    "start_time": "2023-06-02T07:52:03.896Z"
   },
   {
    "duration": 10,
    "start_time": "2023-06-02T07:52:03.920Z"
   },
   {
    "duration": 31,
    "start_time": "2023-06-02T07:52:03.932Z"
   },
   {
    "duration": 21,
    "start_time": "2023-06-02T07:52:03.964Z"
   },
   {
    "duration": 55,
    "start_time": "2023-06-02T07:52:03.987Z"
   },
   {
    "duration": 22,
    "start_time": "2023-06-02T07:52:04.044Z"
   },
   {
    "duration": 71,
    "start_time": "2023-06-02T07:52:04.067Z"
   },
   {
    "duration": 0,
    "start_time": "2023-06-02T07:52:04.141Z"
   },
   {
    "duration": 464,
    "start_time": "2023-06-02T07:52:55.952Z"
   },
   {
    "duration": 24,
    "start_time": "2023-06-02T07:52:56.418Z"
   },
   {
    "duration": 35,
    "start_time": "2023-06-02T07:52:56.444Z"
   },
   {
    "duration": 9,
    "start_time": "2023-06-02T07:52:56.480Z"
   },
   {
    "duration": 40,
    "start_time": "2023-06-02T07:52:56.491Z"
   },
   {
    "duration": 13,
    "start_time": "2023-06-02T07:52:56.533Z"
   },
   {
    "duration": 15,
    "start_time": "2023-06-02T07:52:56.548Z"
   },
   {
    "duration": 11,
    "start_time": "2023-06-02T07:52:56.565Z"
   },
   {
    "duration": 13,
    "start_time": "2023-06-02T07:52:56.577Z"
   },
   {
    "duration": 4,
    "start_time": "2023-06-02T07:52:56.591Z"
   },
   {
    "duration": 53,
    "start_time": "2023-06-02T07:52:56.597Z"
   },
   {
    "duration": 9,
    "start_time": "2023-06-02T07:52:56.651Z"
   },
   {
    "duration": 14,
    "start_time": "2023-06-02T07:52:56.661Z"
   },
   {
    "duration": 19,
    "start_time": "2023-06-02T07:52:56.678Z"
   },
   {
    "duration": 51,
    "start_time": "2023-06-02T07:52:56.699Z"
   },
   {
    "duration": 18,
    "start_time": "2023-06-02T07:52:56.752Z"
   },
   {
    "duration": 5,
    "start_time": "2023-06-02T07:52:56.772Z"
   },
   {
    "duration": 19,
    "start_time": "2023-06-02T07:52:56.778Z"
   },
   {
    "duration": 23,
    "start_time": "2023-06-02T07:52:56.798Z"
   },
   {
    "duration": 9,
    "start_time": "2023-06-02T07:52:56.823Z"
   },
   {
    "duration": 23,
    "start_time": "2023-06-02T07:52:56.834Z"
   },
   {
    "duration": 24,
    "start_time": "2023-06-02T07:52:56.858Z"
   },
   {
    "duration": 29,
    "start_time": "2023-06-02T07:52:56.883Z"
   },
   {
    "duration": 29,
    "start_time": "2023-06-02T07:52:56.913Z"
   },
   {
    "duration": 22,
    "start_time": "2023-06-02T07:52:56.945Z"
   },
   {
    "duration": 83,
    "start_time": "2023-06-02T07:52:56.968Z"
   },
   {
    "duration": 468,
    "start_time": "2023-06-02T07:53:12.453Z"
   },
   {
    "duration": 22,
    "start_time": "2023-06-02T07:53:12.923Z"
   },
   {
    "duration": 15,
    "start_time": "2023-06-02T07:53:12.946Z"
   },
   {
    "duration": 17,
    "start_time": "2023-06-02T07:53:12.964Z"
   },
   {
    "duration": 51,
    "start_time": "2023-06-02T07:53:12.982Z"
   },
   {
    "duration": 4,
    "start_time": "2023-06-02T07:53:13.035Z"
   },
   {
    "duration": 20,
    "start_time": "2023-06-02T07:53:13.040Z"
   },
   {
    "duration": 4,
    "start_time": "2023-06-02T07:53:13.061Z"
   },
   {
    "duration": 7,
    "start_time": "2023-06-02T07:53:13.066Z"
   },
   {
    "duration": 6,
    "start_time": "2023-06-02T07:53:13.075Z"
   },
   {
    "duration": 54,
    "start_time": "2023-06-02T07:53:13.082Z"
   },
   {
    "duration": 10,
    "start_time": "2023-06-02T07:53:13.137Z"
   },
   {
    "duration": 8,
    "start_time": "2023-06-02T07:53:13.148Z"
   },
   {
    "duration": 24,
    "start_time": "2023-06-02T07:53:13.158Z"
   },
   {
    "duration": 20,
    "start_time": "2023-06-02T07:53:13.183Z"
   },
   {
    "duration": 26,
    "start_time": "2023-06-02T07:53:13.204Z"
   },
   {
    "duration": 5,
    "start_time": "2023-06-02T07:53:13.232Z"
   },
   {
    "duration": 21,
    "start_time": "2023-06-02T07:53:13.239Z"
   },
   {
    "duration": 13,
    "start_time": "2023-06-02T07:53:13.262Z"
   },
   {
    "duration": 9,
    "start_time": "2023-06-02T07:53:13.276Z"
   },
   {
    "duration": 13,
    "start_time": "2023-06-02T07:53:13.286Z"
   },
   {
    "duration": 39,
    "start_time": "2023-06-02T07:53:13.300Z"
   },
   {
    "duration": 20,
    "start_time": "2023-06-02T07:53:13.341Z"
   },
   {
    "duration": 17,
    "start_time": "2023-06-02T07:53:13.363Z"
   },
   {
    "duration": 43,
    "start_time": "2023-06-02T07:53:13.382Z"
   },
   {
    "duration": 486,
    "start_time": "2023-06-02T11:37:29.944Z"
   },
   {
    "duration": 23,
    "start_time": "2023-06-02T11:37:30.432Z"
   },
   {
    "duration": 36,
    "start_time": "2023-06-02T11:37:30.457Z"
   },
   {
    "duration": 35,
    "start_time": "2023-06-02T11:37:30.495Z"
   },
   {
    "duration": 63,
    "start_time": "2023-06-02T11:37:30.532Z"
   },
   {
    "duration": 16,
    "start_time": "2023-06-02T11:37:30.597Z"
   },
   {
    "duration": 89,
    "start_time": "2023-06-02T11:37:30.615Z"
   },
   {
    "duration": 52,
    "start_time": "2023-06-02T11:37:30.706Z"
   },
   {
    "duration": 65,
    "start_time": "2023-06-02T11:37:30.760Z"
   },
   {
    "duration": 36,
    "start_time": "2023-06-02T11:37:30.827Z"
   },
   {
    "duration": 60,
    "start_time": "2023-06-02T11:37:30.865Z"
   },
   {
    "duration": 45,
    "start_time": "2023-06-02T11:37:30.927Z"
   },
   {
    "duration": 52,
    "start_time": "2023-06-02T11:37:30.974Z"
   },
   {
    "duration": 72,
    "start_time": "2023-06-02T11:37:31.029Z"
   },
   {
    "duration": 88,
    "start_time": "2023-06-02T11:37:31.102Z"
   },
   {
    "duration": 83,
    "start_time": "2023-06-02T11:37:31.191Z"
   },
   {
    "duration": 21,
    "start_time": "2023-06-02T11:37:31.276Z"
   },
   {
    "duration": 80,
    "start_time": "2023-06-02T11:37:31.299Z"
   },
   {
    "duration": 37,
    "start_time": "2023-06-02T11:37:31.380Z"
   },
   {
    "duration": 29,
    "start_time": "2023-06-02T11:37:31.419Z"
   },
   {
    "duration": 56,
    "start_time": "2023-06-02T11:37:31.450Z"
   },
   {
    "duration": 49,
    "start_time": "2023-06-02T11:37:31.507Z"
   },
   {
    "duration": 80,
    "start_time": "2023-06-02T11:37:31.558Z"
   },
   {
    "duration": 83,
    "start_time": "2023-06-02T11:37:31.640Z"
   },
   {
    "duration": 47,
    "start_time": "2023-06-02T11:37:31.725Z"
   },
   {
    "duration": 46,
    "start_time": "2023-10-29T16:34:07.563Z"
   },
   {
    "duration": 417,
    "start_time": "2023-10-29T16:34:13.704Z"
   },
   {
    "duration": 34,
    "start_time": "2023-10-29T16:34:14.123Z"
   },
   {
    "duration": 20,
    "start_time": "2023-10-29T16:34:14.162Z"
   },
   {
    "duration": 23,
    "start_time": "2023-10-29T16:34:14.183Z"
   },
   {
    "duration": 71,
    "start_time": "2023-10-29T16:34:14.208Z"
   },
   {
    "duration": 11,
    "start_time": "2023-10-29T16:34:14.280Z"
   },
   {
    "duration": 25,
    "start_time": "2023-10-29T16:34:14.292Z"
   },
   {
    "duration": 14,
    "start_time": "2023-10-29T16:34:14.318Z"
   },
   {
    "duration": 22,
    "start_time": "2023-10-29T16:34:14.335Z"
   },
   {
    "duration": 15,
    "start_time": "2023-10-29T16:34:14.358Z"
   },
   {
    "duration": 41,
    "start_time": "2023-10-29T16:34:14.374Z"
   },
   {
    "duration": 9,
    "start_time": "2023-10-29T16:34:14.416Z"
   },
   {
    "duration": 9,
    "start_time": "2023-10-29T16:34:14.427Z"
   },
   {
    "duration": 27,
    "start_time": "2023-10-29T16:34:14.438Z"
   },
   {
    "duration": 23,
    "start_time": "2023-10-29T16:34:14.466Z"
   },
   {
    "duration": 16,
    "start_time": "2023-10-29T16:34:14.491Z"
   },
   {
    "duration": 5,
    "start_time": "2023-10-29T16:34:14.508Z"
   },
   {
    "duration": 41,
    "start_time": "2023-10-29T16:34:14.514Z"
   },
   {
    "duration": 10,
    "start_time": "2023-10-29T16:34:14.556Z"
   },
   {
    "duration": 14,
    "start_time": "2023-10-29T16:34:14.567Z"
   },
   {
    "duration": 22,
    "start_time": "2023-10-29T16:34:14.582Z"
   },
   {
    "duration": 52,
    "start_time": "2023-10-29T16:34:14.605Z"
   },
   {
    "duration": 18,
    "start_time": "2023-10-29T16:34:14.659Z"
   },
   {
    "duration": 16,
    "start_time": "2023-10-29T16:34:14.678Z"
   },
   {
    "duration": 38,
    "start_time": "2023-10-29T16:34:14.695Z"
   },
   {
    "duration": 19,
    "start_time": "2023-10-29T16:36:46.192Z"
   },
   {
    "duration": 17,
    "start_time": "2023-10-29T16:37:13.657Z"
   }
  ],
  "colab": {
   "provenance": []
  },
  "kernelspec": {
   "display_name": "Python 3 (ipykernel)",
   "language": "python",
   "name": "python3"
  },
  "language_info": {
   "codemirror_mode": {
    "name": "ipython",
    "version": 3
   },
   "file_extension": ".py",
   "mimetype": "text/x-python",
   "name": "python",
   "nbconvert_exporter": "python",
   "pygments_lexer": "ipython3",
   "version": "3.11.5"
  },
  "toc": {
   "base_numbering": 1,
   "nav_menu": {
    "height": "185px",
    "width": "380.8px"
   },
   "number_sections": true,
   "sideBar": true,
   "skip_h1_title": true,
   "title_cell": "Table of Contents",
   "title_sidebar": "Contents",
   "toc_cell": false,
   "toc_position": {},
   "toc_section_display": true,
   "toc_window_display": false
  }
 },
 "nbformat": 4,
 "nbformat_minor": 5
}
